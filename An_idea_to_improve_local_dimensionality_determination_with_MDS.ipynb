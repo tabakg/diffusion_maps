{
 "cells": [
  {
   "cell_type": "markdown",
   "metadata": {},
   "source": [
    "# An idea to improve performance of local dimensionality determination.\n",
    "\n",
    "To find what the local dimension is, we can often use MDS on neighborhoods of points. If we performed MDS to find the first $k$ eigenvalues and eigenvectors of the similarity matrix in one neighborhood, then the information can be retained and used for other neighborhoods that share the same points. In the example below, we suppose a single point is being swapped. In this case, we can decompose the (symmetric) similarity matrix as\n",
    "$$\n",
    "M = \n",
    "U \\Sigma U^T\n",
    "$$\n",
    "where the first $k$ columns of $U$ are the largest orthonormal eigenvectors of $M$ and the remaining columns complete an orthonormal basis.\n",
    "Here\n",
    "$$\n",
    "\\Sigma = \\begin{pmatrix}\n",
    "\\Sigma_k && 0 \\\\\n",
    "0 && \\cdot\n",
    "\\end{pmatrix}\n",
    "$$\n",
    "where $\\Sigma_k$ is a diagonal matrix with the first $k$ eigenvectors on its diagonal.\n",
    "\n",
    "If a point in the neighborhood is swapped to a new point, then a column and a row of $M$ will change in some unknown way forming a new matrix $\\tilde{M}$. If this change is small enough, then the first $k$ eigenvalues of $\\tilde{M}$ can be computed more easily using $U^T \\tilde{M} U$, since it is some perturbation of $\\Sigma$. "
   ]
  },
  {
   "cell_type": "code",
   "execution_count": 128,
   "metadata": {
    "collapsed": true
   },
   "outputs": [],
   "source": [
    "import sys\n",
    "\n",
    "## numerical librarires\n",
    "import numpy as np\n",
    "from numpy import linalg as la\n",
    "from scipy.linalg import orth\n",
    "import random\n",
    "\n",
    "## plotting\n",
    "%matplotlib inline\n",
    "import matplotlib\n",
    "import matplotlib.pyplot as plt"
   ]
  },
  {
   "cell_type": "code",
   "execution_count": 165,
   "metadata": {
    "collapsed": true
   },
   "outputs": [],
   "source": [
    "from copy import copy"
   ]
  },
  {
   "cell_type": "code",
   "execution_count": 166,
   "metadata": {
    "collapsed": true
   },
   "outputs": [],
   "source": [
    "def print_mat(M,dec = 3):\n",
    "    for i in range(M.shape[0]):\n",
    "        for j in range(M.shape[1]):\n",
    "            sys.stdout.write(str(round(M[i,j],dec)) + \", \")\n",
    "            \n",
    "        print "
   ]
  },
  {
   "cell_type": "code",
   "execution_count": 167,
   "metadata": {
    "collapsed": false
   },
   "outputs": [],
   "source": [
    "k = 2\n",
    "n = 4\n",
    "M = np.asmatrix(np.reshape([random.gauss(0,1) for _ in range(n**2)],(n,n)))\n",
    "M = M * M.T"
   ]
  },
  {
   "cell_type": "code",
   "execution_count": 168,
   "metadata": {
    "collapsed": false
   },
   "outputs": [
    {
     "name": "stdout",
     "output_type": "stream",
     "text": [
      "1.846, -0.276, -0.018, -0.455, \n",
      "-0.276, 0.053, 0.054, 0.304, \n",
      "-0.018, 0.054, 1.768, 3.397, \n",
      "-0.455, 0.304, 3.397, 10.729, \n"
     ]
    }
   ],
   "source": [
    "print_mat(M)"
   ]
  },
  {
   "cell_type": "code",
   "execution_count": 169,
   "metadata": {
    "collapsed": false
   },
   "outputs": [],
   "source": [
    "vals,vecs = la.eig(M)"
   ]
  },
  {
   "cell_type": "code",
   "execution_count": 183,
   "metadata": {
    "collapsed": false
   },
   "outputs": [
    {
     "name": "stdout",
     "output_type": "stream",
     "text": [
      "1.846, -0.276, -0.018, -0.455, \n",
      "-0.276, 0.053, 0.054, 0.304, \n",
      "-0.018, 0.054, 1.768, 3.397, \n",
      "-0.455, 0.304, 3.397, 10.729, \n"
     ]
    }
   ],
   "source": [
    "## Confirm this is M\n",
    "\n",
    "print_mat(vecs*np.diag(vals)*vecs.T)"
   ]
  },
  {
   "cell_type": "code",
   "execution_count": 184,
   "metadata": {
    "collapsed": false
   },
   "outputs": [],
   "source": [
    "trunc_vecs = np.asmatrix(np.eye(n))\n",
    "for i in range(n):\n",
    "    for j in range(k):\n",
    "        trunc_vecs[i,j] = vecs[i,j]"
   ]
  },
  {
   "cell_type": "code",
   "execution_count": 185,
   "metadata": {
    "collapsed": false
   },
   "outputs": [
    {
     "name": "stdout",
     "output_type": "stream",
     "text": [
      "0.044, -0.983, 0.0, 0.0, \n",
      "-0.027, 0.144, 0.0, 0.0, \n",
      "-0.318, -0.115, 1.0, 0.0, \n",
      "-0.947, -0.011, 0.0, 1.0, \n"
     ]
    }
   ],
   "source": [
    "print_mat(trunc_vecs)"
   ]
  },
  {
   "cell_type": "code",
   "execution_count": 186,
   "metadata": {
    "collapsed": false
   },
   "outputs": [
    {
     "name": "stdout",
     "output_type": "stream",
     "text": [
      "-0.044, 0.983, 0.105, 0.145, \n",
      "0.027, -0.144, -0.009, 0.989, \n",
      "0.318, 0.115, -0.941, -0.0, \n",
      "0.947, 0.011, 0.321, -0.021, \n"
     ]
    }
   ],
   "source": [
    "## build an orthonormal basis\n",
    "q,r = la.qr(trunc_vecs)\n",
    "print_mat(q)"
   ]
  },
  {
   "cell_type": "code",
   "execution_count": 192,
   "metadata": {
    "collapsed": true
   },
   "outputs": [],
   "source": [
    "Sigma = q.T*M*q"
   ]
  },
  {
   "cell_type": "code",
   "execution_count": 193,
   "metadata": {
    "collapsed": false
   },
   "outputs": [
    {
     "name": "stdout",
     "output_type": "stream",
     "text": [
      "11.899, 0.0, 0.0, 0.0, \n",
      "0.0, 1.879, 0.0, -0.0, \n",
      "0.0, 0.0, 0.612, 0.022, \n",
      "0.0, -0.0, 0.022, 0.006, \n"
     ]
    }
   ],
   "source": [
    "print_mat(Sigma)"
   ]
  },
  {
   "cell_type": "code",
   "execution_count": 187,
   "metadata": {
    "collapsed": false
   },
   "outputs": [
    {
     "name": "stdout",
     "output_type": "stream",
     "text": [
      "11.899, 0.0, 0.0, 0.0, \n",
      "0.0, 1.879, 0.0, 0.0, \n",
      "0.0, 0.0, 0.006, 0.0, \n",
      "0.0, 0.0, 0.0, 0.612, \n"
     ]
    }
   ],
   "source": [
    "## The eigenvalue matrix. Above we can see the first $k$ eigenvalues.\n",
    "print_mat(np.diag(vals))"
   ]
  },
  {
   "cell_type": "code",
   "execution_count": 178,
   "metadata": {
    "collapsed": true
   },
   "outputs": [],
   "source": [
    "M_tilde = copy(M)"
   ]
  },
  {
   "cell_type": "code",
   "execution_count": 188,
   "metadata": {
    "collapsed": false
   },
   "outputs": [],
   "source": [
    "## some small perturbation, if a point is replaced\n",
    "for i in range(M.shape[0]-1):\n",
    "    M_tilde[i,-1] -= 0.1\n",
    "    M_tilde[-1,i] -= 0.1"
   ]
  },
  {
   "cell_type": "code",
   "execution_count": 194,
   "metadata": {
    "collapsed": false,
    "scrolled": true
   },
   "outputs": [
    {
     "name": "stdout",
     "output_type": "stream",
     "text": [
      "11.785, -0.181, 0.141, -0.213, \n",
      "-0.181, 1.875, -0.059, 0.001, \n",
      "0.141, -0.059, 0.72, -0.054, \n",
      "-0.213, 0.001, -0.054, 0.016, \n"
     ]
    }
   ],
   "source": [
    "## notice how close this matrix is to $Sigma$.\n",
    "print_mat(q.T*M_tilde*q)"
   ]
  },
  {
   "cell_type": "code",
   "execution_count": null,
   "metadata": {
    "collapsed": true
   },
   "outputs": [],
   "source": []
  },
  {
   "cell_type": "code",
   "execution_count": null,
   "metadata": {
    "collapsed": true
   },
   "outputs": [],
   "source": []
  },
  {
   "cell_type": "code",
   "execution_count": null,
   "metadata": {
    "collapsed": true
   },
   "outputs": [],
   "source": []
  }
 ],
 "metadata": {
  "kernelspec": {
   "display_name": "Python 2",
   "language": "python",
   "name": "python2"
  },
  "language_info": {
   "codemirror_mode": {
    "name": "ipython",
    "version": 2
   },
   "file_extension": ".py",
   "mimetype": "text/x-python",
   "name": "python",
   "nbconvert_exporter": "python",
   "pygments_lexer": "ipython2",
   "version": "2.7.12"
  },
  "widgets": {
   "state": {},
   "version": "1.1.2"
  }
 },
 "nbformat": 4,
 "nbformat_minor": 0
}
