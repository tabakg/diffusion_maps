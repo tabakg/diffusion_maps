{
 "cells": [
  {
   "cell_type": "markdown",
   "metadata": {},
   "source": [
    "# The purpose of this notebook is to estimate dimensionality and scale using an MLE model. The MLE is based on Minka's paper \"Automatic choice of dimensionality for PCA\" (isotropic noise in a linear model).  We apply this MLE to noisy points from a sphere to see what happens."
   ]
  },
  {
   "cell_type": "code",
   "execution_count": 1,
   "metadata": {
    "collapsed": false
   },
   "outputs": [
    {
     "data": {
      "text/plain": [
       "'2.7.12 |Anaconda 2.4.1 (x86_64)| (default, Jun 29 2016, 11:09:23) \\n[GCC 4.2.1 (Based on Apple Inc. build 5658) (LLVM build 2336.11.00)]'"
      ]
     },
     "execution_count": 1,
     "metadata": {},
     "output_type": "execute_result"
    }
   ],
   "source": [
    "import sys\n",
    "sys.version"
   ]
  },
  {
   "cell_type": "code",
   "execution_count": 172,
   "metadata": {
    "collapsed": false
   },
   "outputs": [
    {
     "name": "stdout",
     "output_type": "stream",
     "text": [
      "The Cython extension is already loaded. To reload it, use:\n",
      "  %reload_ext Cython\n"
     ]
    }
   ],
   "source": [
    "## load trajectory data from file\n",
    "import pickle\n",
    "\n",
    "## diffusion maps\n",
    "from diffusion_maps import run_diffusion_map\n",
    "from diffusion_maps import make_gaussian_data\n",
    "\n",
    "## numerical\n",
    "import numpy as np\n",
    "import numpy.linalg as la\n",
    "from scipy.linalg import eigh\n",
    "from scipy.special import gammaln\n",
    "\n",
    "%load_ext Cython\n",
    "np.seterr(all='raise')\n",
    "\n",
    "## plotting libraries\n",
    "import matplotlib.pyplot as plt\n",
    "%matplotlib inline\n",
    "# from mpl_toolkits.mplot3d import axes3d\n",
    "# import matplotlib.cm as cm\n",
    "\n",
    "import vp_tree"
   ]
  },
  {
   "cell_type": "markdown",
   "metadata": {},
   "source": [
    "## Functions for generating data, finding singular values."
   ]
  },
  {
   "cell_type": "code",
   "execution_count": 147,
   "metadata": {
    "collapsed": true
   },
   "outputs": [],
   "source": [
    "def make_data(  N = 1000,\n",
    "            dim = 100,\n",
    "            k = 10,\n",
    "            noise = 0.1,\n",
    "         ):\n",
    "    '''\n",
    "    Data points on k dimensional sphere (S^k) in dim dimensional ambient space.\n",
    "    N points, contaminated by Gaussian iid noise with sigma = 0.1.\n",
    "    '''\n",
    "    data = make_gaussian_data(0.,1.,N,k)\n",
    "    data = [np.hstack([d/la.norm(d),np.zeros(dim-k)]) for d in data]\n",
    "    data_corruption = np.asarray(make_gaussian_data(0.,noise,N,dim))\n",
    "    data += data_corruption\n",
    "    return data"
   ]
  },
  {
   "cell_type": "code",
   "execution_count": 148,
   "metadata": {
    "collapsed": true
   },
   "outputs": [],
   "source": [
    "def make_into_arr(data):\n",
    "    if type(data) != np.ndarray:\n",
    "        if type(data) == list:\n",
    "            data = np.asarray(data)\n",
    "        else:\n",
    "            raise ValueError(\"data should be numpy ndarray or list.\")\n",
    "    return data"
   ]
  },
  {
   "cell_type": "code",
   "execution_count": 149,
   "metadata": {
    "collapsed": true
   },
   "outputs": [],
   "source": [
    "def PCA_eigs(data):\n",
    "    data = make_into_arr(data)\n",
    "    mu = data.mean(axis=0,keepdims = True)\n",
    "    data_centered = data - mu\n",
    "    X = np.asmatrix(data_centered)\n",
    "    Sigma = X.T*X/(dim-1)\n",
    "    return la.eigvalsh(Sigma)[::-1]"
   ]
  },
  {
   "cell_type": "markdown",
   "metadata": {},
   "source": [
    "## Assess dimensions with original scikit learn method, and Cythonized version."
   ]
  },
  {
   "cell_type": "code",
   "execution_count": 163,
   "metadata": {
    "collapsed": true
   },
   "outputs": [],
   "source": [
    "def _assess_dimension_(spectrum, rank, n_samples, n_features):\n",
    "    \"\"\"Compute the likelihood of a rank ``rank`` dataset\n",
    "    The dataset is assumed to be embedded in gaussian noise of shape(n,\n",
    "    dimf) having spectrum ``spectrum``.\n",
    "    Parameters\n",
    "    ----------\n",
    "    spectrum: array of shape (n)\n",
    "        Data spectrum.\n",
    "    rank: int\n",
    "        Tested rank value.\n",
    "    n_samples: int\n",
    "        Number of samples.\n",
    "    n_features: int\n",
    "        Number of features.\n",
    "    Returns\n",
    "    -------\n",
    "    ll: float,\n",
    "        The log-likelihood\n",
    "    Notes\n",
    "    -----\n",
    "    This implements the method of `Thomas P. Minka:\n",
    "    Automatic Choice of Dimensionality for PCA. NIPS 2000: 598-604`\n",
    "    \"\"\"\n",
    "    if rank > len(spectrum):\n",
    "        raise ValueError(\"The tested rank cannot exceed the rank of the\"\n",
    "                         \" dataset\")\n",
    "\n",
    "    pu = -rank * np.log(2.)\n",
    "    for i in range(rank):\n",
    "        pu += (gammaln((n_features - i) / 2.) -\n",
    "               np.log(np.pi) * (n_features - i) / 2.)\n",
    "\n",
    "    pl = np.sum(np.log(spectrum[:rank]))\n",
    "    pl = -pl * n_samples / 2.\n",
    "\n",
    "    if rank == n_features:\n",
    "        pv = 0\n",
    "        v = 1\n",
    "    else:\n",
    "        v = np.sum(spectrum[rank:]) / (n_features - rank)\n",
    "        pv = -np.log(v) * n_samples * (n_features - rank) / 2.\n",
    "\n",
    "    m = n_features * rank - rank * (rank + 1.) / 2.\n",
    "    pp = np.log(2. * np.pi) * (m + rank + 1.) / 2.\n",
    "\n",
    "    pa = 0.\n",
    "    spectrum_ = spectrum.copy()\n",
    "    spectrum_[rank:n_features] = v\n",
    "    for i in range(rank):\n",
    "        for j in range(i + 1, len(spectrum)):\n",
    "            pa += np.log((spectrum[i] - spectrum[j]) *\n",
    "                      (1. / spectrum_[j] - 1. / spectrum_[i])) + np.log(n_samples)\n",
    "\n",
    "    ll = pu + pl + pv + pp - pa / 2. - rank * np.log(n_samples) / 2.\n",
    "\n",
    "    return ll"
   ]
  },
  {
   "cell_type": "code",
   "execution_count": 171,
   "metadata": {
    "collapsed": true
   },
   "outputs": [],
   "source": [
    "%%cython\n",
    "\n",
    "## From scikit-learn/sklearn/decomposition/pca.py, cythonized.\n",
    "\n",
    "import numpy as np\n",
    "from scipy.special import gammaln\n",
    "from libc.math cimport log\n",
    "from libc.math cimport M_PI\n",
    "\n",
    "cpdef float _assess_dimension_c_(spectrum, int rank, int n_samples, int n_features):\n",
    "    \"\"\"Compute the likelihood of a rank ``rank`` dataset\n",
    "    The dataset is assumed to be embedded in gaussian noise of shape(n,\n",
    "    dimf) having spectrum ``spectrum``.\n",
    "    Parameters\n",
    "    ----------\n",
    "    spectrum: array of shape (n)\n",
    "        Data spectrum.\n",
    "    rank: int\n",
    "        Tested rank value.\n",
    "    n_samples: int\n",
    "        Number of samples.\n",
    "    n_features: int\n",
    "        Number of features.\n",
    "    Returns\n",
    "    -------\n",
    "    ll: float,\n",
    "        The log-likelihood\n",
    "    Notes\n",
    "    -----\n",
    "    This implements the method of `Thomas P. Minka:\n",
    "    Automatic Choice of Dimensionality for PCA. NIPS 2000: 598-604`\n",
    "    \"\"\"\n",
    "    if rank > len(spectrum):\n",
    "        raise ValueError(\"The tested rank cannot exceed the rank of the\"\n",
    "                         \" dataset\")\n",
    "        \n",
    "    cdef int i\n",
    "    cdef int j \n",
    "\n",
    "    cdef float pu = -rank * log(2.)\n",
    "    \n",
    "    for i in range(rank):\n",
    "        pu += (gammaln((n_features - i) / 2.) -\n",
    "               log(M_PI) * (n_features - i) / 2.)\n",
    "\n",
    "    cdef double pl = np.sum(np.log(spectrum[:rank]))\n",
    "    pl = -pl * n_samples / 2.\n",
    "    \n",
    "    cdef float pv\n",
    "    cdef float v\n",
    "\n",
    "    if rank == n_features:\n",
    "        pv = 0\n",
    "        v = 1\n",
    "    else:\n",
    "        v = np.sum(spectrum[rank:]) / (n_features - rank)\n",
    "        pv = -log(v) * n_samples * (n_features - rank) / 2.\n",
    "\n",
    "    cdef float m = n_features * rank - rank * (rank + 1.) / 2.\n",
    "    cdef float pp = log(2. * M_PI) * (m + rank + 1.) / 2.\n",
    "\n",
    "    cdef double pa = 0.\n",
    "    spectrum_ = spectrum.copy()\n",
    "    spectrum_[rank:n_features] = v\n",
    "    for i in range(rank):\n",
    "        for j in range(i + 1, len(spectrum)):\n",
    "            pa += log((spectrum[i] - spectrum[j]) *\n",
    "                      (1. / spectrum_[j] - 1. / spectrum_[i])) + log(n_samples)\n",
    "    \n",
    "    return pu + pl + pv + pp - pa / 2. - rank * log(n_samples) / 2."
   ]
  },
  {
   "cell_type": "markdown",
   "metadata": {},
   "source": [
    "## Faster maximization for peaked dimensionality PDFs."
   ]
  },
  {
   "cell_type": "code",
   "execution_count": 187,
   "metadata": {
    "collapsed": false
   },
   "outputs": [],
   "source": [
    "def find_max_over_ints(func,int_range):\n",
    "    '''\n",
    "    Find the argmax of func over a range of integers range(min_int,max_int).\n",
    "    Assume that the function func has a peak. Before it is monotonically \n",
    "    increasing, and after it is monotonically decreasing.\n",
    "    '''\n",
    "    if not all ([type(val) == int for val in int_range]):\n",
    "        raise ValueError(\"Must be ints\")    \n",
    "    \n",
    "    return find_max_over_ints_helper(func,int_range)\n",
    "    \n",
    "def find_max_over_ints_helper(func,R):\n",
    "    if len(R) == 0:\n",
    "        return (None,None)\n",
    "    elif len(R) == 1:\n",
    "        return (R[0],func(R[0]))\n",
    "    elif len(R) == 2:\n",
    "        return max([(R[0],func(R[0])),(R[1],func(R[1]))],\n",
    "                    key = lambda z: z[1])\n",
    "    else: ## three or more\n",
    "        Q = [R[int(len(R)/4)],R[int(len(R)/2)],R[int(len(R)*3/4)]]\n",
    "        F = map(func,Q)\n",
    "        if F[1] >= F[0] and F[1] >= F[2]:\n",
    "            return find_max_over_ints_helper(func,np.arange(Q[0],Q[2]))\n",
    "        elif F[0] >= F[1] >= F[2]:\n",
    "            return find_max_over_ints_helper(func,np.arange(R[0],Q[1]+1))\n",
    "        elif F[0] <= F[1] <= F[2]:\n",
    "            return find_max_over_ints_helper(func,np.arange(Q[1],R[-1]+1))\n",
    "        else:\n",
    "            raise ValueError(\"The inputs violate the assumption that the function has a single peak.\")"
   ]
  },
  {
   "cell_type": "markdown",
   "metadata": {},
   "source": [
    "# Tests"
   ]
  },
  {
   "cell_type": "markdown",
   "metadata": {},
   "source": [
    "## Values for tests"
   ]
  },
  {
   "cell_type": "code",
   "execution_count": 815,
   "metadata": {
    "collapsed": true
   },
   "outputs": [],
   "source": [
    "N = 10000\n",
    "dim = 100\n",
    "k = 10\n",
    "noise = 0.1\n"
   ]
  },
  {
   "cell_type": "markdown",
   "metadata": {},
   "source": [
    "## Generate data, find singular values."
   ]
  },
  {
   "cell_type": "code",
   "execution_count": 816,
   "metadata": {
    "collapsed": true
   },
   "outputs": [],
   "source": [
    "data = make_data(N = N,\n",
    "            dim = dim,\n",
    "            k = k,\n",
    "            noise = noise)\n",
    "\n",
    "eigs = PCA_eigs(data)"
   ]
  },
  {
   "cell_type": "markdown",
   "metadata": {},
   "source": [
    "## Naive maximization"
   ]
  },
  {
   "cell_type": "code",
   "execution_count": 817,
   "metadata": {
    "collapsed": false,
    "scrolled": true
   },
   "outputs": [
    {
     "data": {
      "text/plain": [
       "[<matplotlib.lines.Line2D at 0x134ecadd0>]"
      ]
     },
     "execution_count": 817,
     "metadata": {},
     "output_type": "execute_result"
    },
    {
     "data": {
      "image/png": "[encoded data removed]",
      "text/plain": [
       "<matplotlib.figure.Figure at 0x12bf3f610>"
      ]
     },
     "metadata": {},
     "output_type": "display_data"
    }
   ],
   "source": [
    "dims_mle = np.vectorize(lambda z: _assess_dimension_c_(eigs,z,N,dim))(np.arange(dim+1))\n",
    "plt.plot(dims_mle)"
   ]
  },
  {
   "cell_type": "markdown",
   "metadata": {},
   "source": [
    "## Fast maximization (peaked data), compare to naive maximization."
   ]
  },
  {
   "cell_type": "code",
   "execution_count": 818,
   "metadata": {
    "collapsed": true
   },
   "outputs": [],
   "source": [
    "data = make_data(N = N,\n",
    "            dim = dim,\n",
    "            k = k,\n",
    "            noise = noise)\n",
    "\n",
    "eigs = PCA_eigs(data)"
   ]
  },
  {
   "cell_type": "code",
   "execution_count": 819,
   "metadata": {
    "collapsed": true
   },
   "outputs": [],
   "source": [
    "func = lambda z: _assess_dimension_c_(eigs,z,N,dim)"
   ]
  },
  {
   "cell_type": "code",
   "execution_count": 820,
   "metadata": {
    "collapsed": false
   },
   "outputs": [
    {
     "name": "stdout",
     "output_type": "stream",
     "text": [
      "10\n",
      "10\n"
     ]
    }
   ],
   "source": [
    "print find_max_over_ints(func,range(dim))[0]\n",
    "print k"
   ]
  },
  {
   "cell_type": "markdown",
   "metadata": {},
   "source": [
    "## Comments\n",
    "\n",
    "When the intrinsic dimension and noise are not too high, we obtain a nice peaked function for which optimization to find the maximum can be done efficiently ($O(log(d))$ instead of $O(d)$ for the dimensionality $d$). However, when this breaks down the efficient strategy can no longer be used, in which case all possible dimensions must be checked. Further, when the noise levels become too high, the correct dimension becomes impossible to infer. "
   ]
  },
  {
   "cell_type": "markdown",
   "metadata": {},
   "source": [
    "## Different radii"
   ]
  },
  {
   "cell_type": "code",
   "execution_count": 821,
   "metadata": {
    "collapsed": true
   },
   "outputs": [],
   "source": [
    "sample_size = 1"
   ]
  },
  {
   "cell_type": "code",
   "execution_count": 822,
   "metadata": {
    "collapsed": true
   },
   "outputs": [],
   "source": [
    "data_list = [vec.tolist() for vec in data]\n",
    "tree = vp_tree.tree_container(data_list)"
   ]
  },
  {
   "cell_type": "code",
   "execution_count": 823,
   "metadata": {
    "collapsed": true
   },
   "outputs": [],
   "source": [
    "def choose_random_neighborhood_points(data_list = data_list,sample_size = 40):\n",
    "    '''\n",
    "    pick sample_size points from data_list without replacement\n",
    "    '''\n",
    "    random_indices = np.random.choice(N,sample_size,replace=False)\n",
    "    return [data_list[i] for i in random_indices]"
   ]
  },
  {
   "cell_type": "code",
   "execution_count": 824,
   "metadata": {
    "collapsed": true
   },
   "outputs": [],
   "source": [
    "sample_points = choose_random_neighborhood_points(data_list=data.tolist(),sample_size=sample_size)"
   ]
  },
  {
   "cell_type": "code",
   "execution_count": 825,
   "metadata": {
    "collapsed": true
   },
   "outputs": [],
   "source": [
    "rads = np.arange(1.5,2.5,0.01)"
   ]
  },
  {
   "cell_type": "code",
   "execution_count": 826,
   "metadata": {
    "collapsed": false
   },
   "outputs": [],
   "source": [
    "eig_sum = np.zeros((dim,len(rads)))\n",
    "for x in sample_points:\n",
    "    for i,eps in enumerate(rads):\n",
    "        neighbors = tree.find_within_epsilon(x,eps)\n",
    "        if len(neighbors) < dim + 2:\n",
    "            pass\n",
    "        else:\n",
    "            eig_sum[:,i] += PCA_eigs(neighbors) / sample_size"
   ]
  },
  {
   "cell_type": "code",
   "execution_count": 827,
   "metadata": {
    "collapsed": false,
    "scrolled": true
   },
   "outputs": [
    {
     "data": {
      "image/png": "[encoded data removed]",
      "text/plain": [
       "<matplotlib.figure.Figure at 0x12bf29090>"
      ]
     },
     "metadata": {},
     "output_type": "display_data"
    }
   ],
   "source": [
    "plt.plot(rads,eig_sum.T);"
   ]
  },
  {
   "cell_type": "code",
   "execution_count": 828,
   "metadata": {
    "collapsed": false,
    "scrolled": true
   },
   "outputs": [],
   "source": [
    "dims = np.zeros(len(eig_sum.T))\n",
    "dims_laplacian = np.zeros(len(eig_sum.T))\n",
    "for i,eigs in enumerate(eig_sum.T):\n",
    "    if all ([el != 0 for el in eigs]):\n",
    "        dims_mle = np.vectorize(lambda z: _assess_dimension_c_(eigs,z,N,dim))(np.arange(dim+1))\n",
    "        \n",
    "        ## second derivative\n",
    "        dims_mle_grad_der = dims_mle[1:] - dims_mle[:-1] \n",
    "        dims_mle_laplace = dims_mle_grad_der[1:] - dims_mle_grad_der[:-1]\n",
    "        np.argmax(abs(dims_mle_laplace))+1\n",
    "\n",
    "        dims[i] = np.argmax(dims_mle)\n",
    "        dims_laplacian[i] = np.argmax(abs(dims_mle_laplace))+1"
   ]
  },
  {
   "cell_type": "code",
   "execution_count": 829,
   "metadata": {
    "collapsed": false,
    "scrolled": true
   },
   "outputs": [
    {
     "data": {
      "text/plain": [
       "<matplotlib.text.Text at 0x12bf3f650>"
      ]
     },
     "execution_count": 829,
     "metadata": {},
     "output_type": "execute_result"
    },
    {
     "data": {
      "image/png": "[encoded data removed]",
      "text/plain": [
       "<matplotlib.figure.Figure at 0x134917990>"
      ]
     },
     "metadata": {},
     "output_type": "display_data"
    }
   ],
   "source": [
    "plt.plot(rads,dims)\n",
    "plt.title(\"MLE on dimensionality\",fontsize = 24)\n",
    "plt.ylabel(\"Dimensionality predicted\",fontsize = 24)\n",
    "plt.xlabel(\"distance from sample point\",fontsize = 24)"
   ]
  },
  {
   "cell_type": "code",
   "execution_count": 830,
   "metadata": {
    "collapsed": false
   },
   "outputs": [
    {
     "data": {
      "text/plain": [
       "<matplotlib.text.Text at 0x135936c90>"
      ]
     },
     "execution_count": 830,
     "metadata": {},
     "output_type": "execute_result"
    },
    {
     "data": {
      "image/png": "[encoded data removed]",
      "text/plain": [
       "<matplotlib.figure.Figure at 0x128b15ed0>"
      ]
     },
     "metadata": {},
     "output_type": "display_data"
    }
   ],
   "source": [
    "plt.plot(rads,dims_laplacian)\n",
    "plt.title(\"`kink' in dimensionality MLE\",fontsize = 24)\n",
    "plt.ylabel(\"Dimensionality predicted\",fontsize = 24)\n",
    "plt.xlabel(\"distance from sample point\",fontsize = 24)"
   ]
  },
  {
   "cell_type": "markdown",
   "metadata": {},
   "source": [
    "## Comments\n",
    "\n",
    "The MLE PDF generally has a kink, even when the maximum value lies elsewhere. Using the kink (i.e. maximizing a finite difference estimating the second derivative) seems to estimate the dimenaionlity much more cleanly than taking the argmax of the MLE."
   ]
  },
  {
   "cell_type": "markdown",
   "metadata": {},
   "source": [
    "## Benchmarks"
   ]
  },
  {
   "cell_type": "code",
   "execution_count": 365,
   "metadata": {
    "collapsed": false,
    "scrolled": true
   },
   "outputs": [
    {
     "name": "stdout",
     "output_type": "stream",
     "text": [
      "1 loops, best of 3: 1.14 s per loop\n"
     ]
    }
   ],
   "source": [
    "## Original python code\n",
    "%timeit dims_mle = np.vectorize(lambda z: _assess_dimension_(eigs,z,N,dim))(np.arange(dim+1))"
   ]
  },
  {
   "cell_type": "code",
   "execution_count": 366,
   "metadata": {
    "collapsed": false
   },
   "outputs": [
    {
     "name": "stdout",
     "output_type": "stream",
     "text": [
      "10 loops, best of 3: 150 ms per loop\n"
     ]
    }
   ],
   "source": [
    "## Cythonized code\n",
    "%timeit dims_mle = np.vectorize(lambda z: _assess_dimension_c_(eigs,z,N,dim))(np.arange(dim+1))"
   ]
  },
  {
   "cell_type": "code",
   "execution_count": 367,
   "metadata": {
    "collapsed": false
   },
   "outputs": [
    {
     "name": "stdout",
     "output_type": "stream",
     "text": [
      "100 loops, best of 3: 15.7 ms per loop\n"
     ]
    }
   ],
   "source": [
    "## Optimized, assuming peaked data\n",
    "%timeit find_max_over_ints(func,range(100))"
   ]
  },
  {
   "cell_type": "markdown",
   "metadata": {},
   "source": [
    "## simple Cython tests..."
   ]
  },
  {
   "cell_type": "code",
   "execution_count": 173,
   "metadata": {
    "collapsed": false
   },
   "outputs": [],
   "source": [
    "%%cython\n",
    "\n",
    "from libc.math cimport log\n",
    "from scipy.special import gammaln\n",
    "\n",
    "cpdef float f( float x):\n",
    "    return gammaln(x)"
   ]
  },
  {
   "cell_type": "code",
   "execution_count": 152,
   "metadata": {
    "collapsed": true
   },
   "outputs": [],
   "source": [
    "from scipy.special import gammaln"
   ]
  },
  {
   "cell_type": "code",
   "execution_count": 153,
   "metadata": {
    "collapsed": false
   },
   "outputs": [
    {
     "name": "stdout",
     "output_type": "stream",
     "text": [
      "The slowest run took 48.54 times longer than the fastest. This could mean that an intermediate result is being cached \n",
      "1000000 loops, best of 3: 884 ns per loop\n"
     ]
    }
   ],
   "source": [
    "%timeit f(5)"
   ]
  },
  {
   "cell_type": "code",
   "execution_count": 154,
   "metadata": {
    "collapsed": false,
    "scrolled": true
   },
   "outputs": [
    {
     "name": "stdout",
     "output_type": "stream",
     "text": [
      "The slowest run took 23.44 times longer than the fastest. This could mean that an intermediate result is being cached \n",
      "1000000 loops, best of 3: 1.07 µs per loop\n"
     ]
    }
   ],
   "source": [
    "%timeit gammaln(5)"
   ]
  }
 ],
 "metadata": {
  "kernelspec": {
   "display_name": "Python 2",
   "language": "python",
   "name": "python2"
  },
  "language_info": {
   "codemirror_mode": {
    "name": "ipython",
    "version": 2
   },
   "file_extension": ".py",
   "mimetype": "text/x-python",
   "name": "python",
   "nbconvert_exporter": "python",
   "pygments_lexer": "ipython2",
   "version": "2.7.12"
  },
  "widgets": {
   "state": {},
   "version": "1.1.2"
  }
 },
 "nbformat": 4,
 "nbformat_minor": 0
}
