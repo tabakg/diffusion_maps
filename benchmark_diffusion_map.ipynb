{
 "cells": [
  {
   "cell_type": "code",
   "execution_count": 40,
   "metadata": {
    "collapsed": true
   },
   "outputs": [],
   "source": [
    "import os\n",
    "import sys\n",
    "\n",
    "#### VP Tree\n",
    "\n",
    "sys.path.append(os.getcwd() + \"/vp_trees_cpp/vp_trees_cpp\")\n",
    "\n",
    "from vp_tree import FS_metric\n",
    "from vp_tree import tree_container\n",
    "\n",
    "from utilities.load_trajectory import load_trajectory\n",
    "from utilities.utilities.fubini_study import FS_metric\n",
    "\n",
    "import time\n",
    "\n",
    "## load trajectory data from file\n",
    "import pickle\n",
    "\n",
    "## diffusion maps\n",
    "from diffusion_maps import run_diffusion_map\n",
    "from diffusion_maps import run_diffusion_map_dense\n",
    "\n",
    "## numerical\n",
    "import numpy as np\n",
    "from numpy import linalg as la\n",
    "\n",
    "## plotting libraries\n",
    "import matplotlib.pyplot as plt\n",
    "%matplotlib inline\n",
    "plt.style.use(\"ggplot\")"
   ]
  },
  {
   "cell_type": "code",
   "execution_count": 2,
   "metadata": {
    "collapsed": true
   },
   "outputs": [],
   "source": [
    "Ntraj,duration,traj_data,traj_expects = load_trajectory(\"absorptive_bistable\")"
   ]
  },
  {
   "cell_type": "code",
   "execution_count": 3,
   "metadata": {
    "collapsed": true
   },
   "outputs": [],
   "source": [
    "num_data_points = len(traj_data)"
   ]
  },
  {
   "cell_type": "code",
   "execution_count": 19,
   "metadata": {
    "collapsed": true
   },
   "outputs": [],
   "source": [
    "def run_diff_map(num_sample_points = 1000,\n",
    "                 num_neighbors = 200,\n",
    "                 obs_indices = range(3),\n",
    "                 color_by_percentile = True,\n",
    "                 params = params,\n",
    "                 sample_type = 'last_n'):\n",
    "    \n",
    "    ## sampling scheme\n",
    "    if sample_type == 'uniform_time':\n",
    "        downsample_rate = num_data_points / num_sample_points\n",
    "        sample_indices = range(num_data_points)[::downsample_rate]\n",
    "    elif sample_type == 'uniform_random':\n",
    "        sample_indices = random.sample(range(num_data_points),num_sample_points)\n",
    "    elif sample_type == 'first_n':\n",
    "        sample_indices = range(num_sample_points)\n",
    "    elif sample_type == 'last_n':\n",
    "        sample_indices = range(num_data_points - num_sample_points, num_data_points)\n",
    "    else:\n",
    "        raise ValueError(\"unknown sample_type\")\n",
    "    \n",
    "    ## sample points\n",
    "    points = [traj_data[i] for i in sample_indices]\n",
    "    \n",
    "    ## Params for sparse diffusion map\n",
    "    params = {\"gaussian_epsilon\": 0.5,\n",
    "              \"alpha\" : 0.5,\n",
    "              \"eigen_dims\": 7,\n",
    "              \"num_neighbors\": num_neighbors,\n",
    "             }\n",
    "    \n",
    "    ## diffusion map\n",
    "    return run_diffusion_map(points, \n",
    "                             params, \n",
    "                             symmetric = True, \n",
    "                             metric = \"FS_metric\",\n",
    "                             neighbor_selection = \"num_neighbors\",\n",
    "                             eig_vec_both_sides = False, \n",
    "                             return_eigenvectors = True)"
   ]
  },
  {
   "cell_type": "code",
   "execution_count": 37,
   "metadata": {
    "collapsed": true
   },
   "outputs": [],
   "source": [
    "num_sample_points_list = [500,1000,1500,2000,3000,5000,10000,15000]\n",
    "num_neighbors_list = [100,200,300]"
   ]
  },
  {
   "cell_type": "code",
   "execution_count": 25,
   "metadata": {
    "collapsed": false,
    "scrolled": false
   },
   "outputs": [
    {
     "name": "stdout",
     "output_type": "stream",
     "text": [
      "using num_neighbors  \n",
      "using num_neighbors  \n",
      "using num_neighbors  \n",
      "using num_neighbors  \n",
      "using num_neighbors  \n",
      "using num_neighbors  \n",
      "using num_neighbors  \n",
      "using num_neighbors  \n",
      "using num_neighbors  \n",
      "using num_neighbors  \n",
      "using num_neighbors  \n",
      "using num_neighbors  \n",
      "using num_neighbors  \n",
      "using num_neighbors  \n",
      "using num_neighbors  \n",
      "using num_neighbors  \n",
      "using num_neighbors  \n",
      "using num_neighbors  \n",
      "using num_neighbors  \n",
      "using num_neighbors  \n",
      "using num_neighbors  \n"
     ]
    }
   ],
   "source": [
    "times = {}\n",
    "for num_sample_points in num_sample_points_list:\n",
    "    for num_neighbors in num_neighbors_list:\n",
    "        t0 = time.time()\n",
    "        run_diff_map(num_sample_points = num_sample_points, num_neighbors = num_neighbors)\n",
    "        times[num_sample_points,num_neighbors] = time.time() - t0"
   ]
  },
  {
   "cell_type": "code",
   "execution_count": 38,
   "metadata": {
    "collapsed": false
   },
   "outputs": [
    {
     "data": {
      "image/png": "[encoded data removed]",
      "text/plain": [
       "<matplotlib.figure.Figure at 0x17f549e50>"
      ]
     },
     "metadata": {},
     "output_type": "display_data"
    }
   ],
   "source": [
    "for num_neighbors in num_neighbors_list:\n",
    "    plt.plot(num_sample_points_list,\n",
    "              [times[num_sample_points,num_neighbors]\n",
    "                  for num_sample_points \n",
    "                      in num_sample_points_list ])"
   ]
  },
  {
   "cell_type": "code",
   "execution_count": 39,
   "metadata": {
    "collapsed": true
   },
   "outputs": [],
   "source": [
    "## Just making the tree..."
   ]
  },
  {
   "cell_type": "code",
   "execution_count": 55,
   "metadata": {
    "collapsed": true
   },
   "outputs": [],
   "source": [
    "num = 300\n",
    "metric = \"FS_metric\""
   ]
  },
  {
   "cell_type": "code",
   "execution_count": 45,
   "metadata": {
    "collapsed": false
   },
   "outputs": [],
   "source": [
    "data = traj_data.tolist()"
   ]
  },
  {
   "cell_type": "code",
   "execution_count": 52,
   "metadata": {
    "collapsed": true
   },
   "outputs": [],
   "source": [
    "tree = tree_container(data[:10000],metric) ## make vp tree from data./"
   ]
  },
  {
   "cell_type": "code",
   "execution_count": null,
   "metadata": {
    "collapsed": false
   },
   "outputs": [],
   "source": [
    "N = tree.find_all_N_neighbors(num,metric)"
   ]
  },
  {
   "cell_type": "code",
   "execution_count": null,
   "metadata": {
    "collapsed": true
   },
   "outputs": [],
   "source": []
  }
 ],
 "metadata": {
  "kernelspec": {
   "display_name": "Python 2",
   "language": "python",
   "name": "python2"
  },
  "language_info": {
   "codemirror_mode": {
    "name": "ipython",
    "version": 2
   },
   "file_extension": ".py",
   "mimetype": "text/x-python",
   "name": "python",
   "nbconvert_exporter": "python",
   "pygments_lexer": "ipython2",
   "version": "2.7.12"
  },
  "widgets": {
   "state": {},
   "version": "1.1.2"
  }
 },
 "nbformat": 4,
 "nbformat_minor": 0
}
