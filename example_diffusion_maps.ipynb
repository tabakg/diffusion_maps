{
 "cells": [
  {
   "cell_type": "code",
   "execution_count": 1699,
   "metadata": {
    "collapsed": true
   },
   "outputs": [],
   "source": [
    "import sys\n",
    "sys.path.append(\"/Users/gil/Documents/repos/c_pp_stuff/vp_trees_with_python_interface\")\n",
    "import vp_tree\n",
    "\n",
    "import time\n",
    "\n",
    "import numpy as np\n",
    "from numpy import linalg as la\n",
    "from numpy.random import normal\n",
    "import random\n",
    "\n",
    "%matplotlib inline\n",
    "import matplotlib\n",
    "import matplotlib.pyplot as plt\n",
    "\n",
    "import scipy.sparse as sparse\n",
    "from scipy.sparse.linalg import eigsh\n",
    "from scipy.sparse.linalg import eigs\n",
    "\n",
    "from ipywidgets import interact\n",
    "import pickle"
   ]
  },
  {
   "cell_type": "code",
   "execution_count": 1700,
   "metadata": {
    "collapsed": true
   },
   "outputs": [],
   "source": [
    "printing_calculations = False"
   ]
  },
  {
   "cell_type": "code",
   "execution_count": 1701,
   "metadata": {
    "collapsed": true
   },
   "outputs": [],
   "source": [
    "def make_gaussian_data(mu,sigma,num,dim):\n",
    "    return (np.reshape(np.array([random.normalvariate(mu,sigma)\n",
    "        for i in range(num*dim)]),(num,dim)) .tolist())"
   ]
  },
  {
   "cell_type": "code",
   "execution_count": 1777,
   "metadata": {
    "collapsed": false
   },
   "outputs": [],
   "source": [
    "def run_diffusion_map(data, params, symmetric = False):\n",
    "    \n",
    "    epsilon, gaussian_epsilon,alpha,data_size = params[\"epsilon\"],params[\"gaussian_epsilon\"],params[\"alpha\"],params[\"data_size\"]\n",
    "\n",
    "    D = {tuple(value):i for i,value in enumerate(data)}\n",
    "\n",
    "    t0 = time.time()\n",
    "    tree = vp_tree.tree_container(data) ## make vp tree from data.\n",
    "    t1 = time.time()\n",
    "    s = tree.print_tree() ## string with tree contents.\n",
    "    t2 = time.time()\n",
    "\n",
    "    #### Diffusion Mapping.\n",
    "    ## We use the default metric here.\n",
    "    ## For the FS_metric, use: vp_tree.FS_metric(x,y).\n",
    "    ## Remember to normalize x and y first!!\n",
    "    ## print vp_tree.FS_metric((x/la.norm(x)).tolist(),(y/la.norm(y)).tolist())\n",
    "\n",
    "    K = sparse.lil_matrix((data_size,data_size)) ## efficient format for constructing matrices.\n",
    "\n",
    "    for i,x in enumerate(data):\n",
    "        neighbors = tree.find_within_epsilon(x,epsilon)\n",
    "        for y in neighbors:\n",
    "            j = D[tuple(y)]\n",
    "            K[i,j] = np.exp(-la.norm(np.asarray(x)-np.asarray(y))**2 / (2.0 * gaussian_epsilon))\n",
    "    if printing_calculations: print \"K = \", K.todense()\n",
    "\n",
    "    if printing_calculations: print \"total neighbors found = \", len(K.nonzero()[0])\n",
    "\n",
    "    t3 = time.time()\n",
    "\n",
    "    d_X = np.squeeze(np.asarray(K.sum(axis = 1)))\n",
    "    if printing_calculations: print \"d_X = \", d_X\n",
    "\n",
    "    K_coo = sparse.coo_matrix(K) ## can iterate over (i,j,v) of coo_matrix\n",
    "    L = sparse.lil_matrix((data_size,data_size))\n",
    "    for i,j,v in zip(K_coo.row, K_coo.col, K_coo.data):\n",
    "        L[i,j] = v * np.power(d_X[i] * d_X[j], -alpha)\n",
    "    if printing_calculations: print \"L = \",L.todense()\n",
    "\n",
    "    D_no_power = np.squeeze(np.asarray(L.sum(axis = 1))) ## get diagonal elements of D\n",
    "    \n",
    "        ## non-symmetrized. Must use eigensolver that doesn't assume symmetry.\n",
    "\n",
    "    ## symmetrized\n",
    "    if symmetric:\n",
    "        D_frac_pow = np.asarray([np.power(d, - 0.5) if not d == 0. else 0. for d in D_no_power])\n",
    "        D_s = sparse.diags([D_frac_pow],[0],format = 'csr')\n",
    "        if printing_calculations: print \"D_s = \", D_s.todense()\n",
    "        M = D_s * L.tocsr() * D_s\n",
    "        if printing_calculations: print M.todense()\n",
    "    else:\n",
    "        D_frac_pow = np.asarray([np.power(d, - 1) if not d == 0. else 0. for d in D_no_power])\n",
    "        D_s = sparse.diags([D_frac_pow],[0],format = 'csr')\n",
    "        M = D_s * L.tocsr()\n",
    "\n",
    "    t4 = time.time()\n",
    "\n",
    "    if symmetric:\n",
    "        e_vals,e_vecs = eigsh(M, k = params[\"eigen_dims\"], maxiter = data_size * 100 )\n",
    "        ## change of basis below\n",
    "        e_vecs = np.asarray(D_s * np.asmatrix(e_vecs))\n",
    "    else:\n",
    "        e_vals,e_vecs = eigs(M, k = params[\"eigen_dims\"], maxiter = data_size * 100 )\n",
    "\n",
    "    ## get real part, there should not be imaginary part.\n",
    "    e_vals,e_vecs = e_vals.real,e_vecs.real\n",
    "    l  = zip(e_vals,e_vecs.T)\n",
    "    l.sort(key = lambda z: -z[0])\n",
    "    e_vals,e_vecs = np.asarray([el[0] for el in l]),np.asarray([el[1] for el in l]).T\n",
    "    \n",
    "    t5 = time.time()\n",
    "\n",
    "    if printing_calculations:\n",
    "        print (\"making the tree\",t1-t0)\n",
    "        print (\"printing tree string (optional)\",t2-t1)\n",
    "        print (\"Finding neighbors and generating K matrix\", t3-t2)\n",
    "        print (\"calculations for M\", t4-t3)\n",
    "        print (\"finding diffusion eigenvalues and eigenvectors\",t5-t4)\n",
    "        \n",
    "    return e_vals,e_vecs"
   ]
  },
  {
   "cell_type": "code",
   "execution_count": 1718,
   "metadata": {
    "collapsed": false
   },
   "outputs": [],
   "source": [
    "params = {}\n",
    "\n",
    "params[\"mus\"] = [0.,-8.,8.] ## data distribution mean.\n",
    "params[\"sigma\"] = 1.0 ## data distribution standard deviation.\n",
    "params[\"epsilon\"] = 3. ## cutoff for nearest neighbors.\n",
    "params[\"gaussian_epsilon\"] = 3. ## width of Gaussian kernel.\n",
    "params[\"alpha\"] = 0.5 ## coefficient to use for diffusion maps. See the wikipedia article.\n",
    "\n",
    "params[\"dim\"] = 1\n",
    "params[\"data_size\"] = 300\n",
    "params[\"n\"] = 3\n",
    "params[\"eigen_dims\"] = 4"
   ]
  },
  {
   "cell_type": "code",
   "execution_count": 1719,
   "metadata": {
    "collapsed": false
   },
   "outputs": [],
   "source": [
    "def generate_data_n_gaussians(params):\n",
    "    if params[\"data_size\"] % params[\"n\"] != 0:\n",
    "        print \"data size must be divisible by \" + str(params[\"n\"]) + \" .\"\n",
    "        return\n",
    "    num_per_well = params[\"data_size\"] / params[\"n\"] ## assume it's even for now\n",
    "    l = []\n",
    "    for mu in params['mus']:\n",
    "        l += make_gaussian_data(mu,params[\"sigma\"],num_per_well,params[\"dim\"])\n",
    "    return l"
   ]
  },
  {
   "cell_type": "code",
   "execution_count": 1720,
   "metadata": {
    "collapsed": false
   },
   "outputs": [
    {
     "data": {
      "image/png": "[encoded data removed]",
      "text/plain": [
       "<matplotlib.figure.Figure at 0x135d1c190>"
      ]
     },
     "metadata": {},
     "output_type": "display_data"
    }
   ],
   "source": [
    "## Make three well-separated Gaussians\n",
    "\n",
    "data = generate_data_n_gaussians(params)\n",
    "data.sort(key = lambda z: z[0] / abs(z[0]) * np.sqrt(sum([el**2 for el in z])))\n",
    "plt.hist([el[0] for el in np.asarray(data)],bins=50);"
   ]
  },
  {
   "cell_type": "code",
   "execution_count": 1721,
   "metadata": {
    "collapsed": false,
    "scrolled": false
   },
   "outputs": [
    {
     "name": "stdout",
     "output_type": "stream",
     "text": [
      "[ 1.          0.99982472  0.99925872  0.35600481]\n"
     ]
    },
    {
     "data": {
      "image/png": "[encoded data removed]",
      "text/plain": [
       "<matplotlib.figure.Figure at 0x134d8a590>"
      ]
     },
     "metadata": {},
     "output_type": "display_data"
    },
    {
     "data": {
      "image/png": "[encoded data removed]",
      "text/plain": [
       "<matplotlib.figure.Figure at 0x134ad1090>"
      ]
     },
     "metadata": {},
     "output_type": "display_data"
    },
    {
     "data": {
      "image/png": "[encoded data removed]",
      "text/plain": [
       "<matplotlib.figure.Figure at 0x140d0a8d0>"
      ]
     },
     "metadata": {},
     "output_type": "display_data"
    },
    {
     "data": {
      "image/png": "[encoded data removed]",
      "text/plain": [
       "<matplotlib.figure.Figure at 0x137fe7910>"
      ]
     },
     "metadata": {},
     "output_type": "display_data"
    }
   ],
   "source": [
    "## alpha == 0.5 case. This corresponds to a diffusion.\n",
    "\n",
    "params[\"alpha\"] = 0.5 ## coefficient to use for diffusion maps. See the wikipedia article.\n",
    "e_vals, e_vecs = run_diffusion_map(data, params)\n",
    "\n",
    "e_vals / la.norm(e_vals)\n",
    "print e_vals\n",
    "for vec in e_vecs.T:\n",
    "    plt.plot(vec)\n",
    "    plt.show()"
   ]
  },
  {
   "cell_type": "code",
   "execution_count": 1722,
   "metadata": {
    "collapsed": false
   },
   "outputs": [
    {
     "name": "stdout",
     "output_type": "stream",
     "text": [
      "[ 1.          0.99959749  0.99830316  0.40964948]\n"
     ]
    },
    {
     "data": {
      "image/png": "[encoded data removed]",
      "text/plain": [
       "<matplotlib.figure.Figure at 0x1345d7fd0>"
      ]
     },
     "metadata": {},
     "output_type": "display_data"
    },
    {
     "data": {
      "image/png": "[encoded data removed]",
      "text/plain": [
       "<matplotlib.figure.Figure at 0x139444910>"
      ]
     },
     "metadata": {},
     "output_type": "display_data"
    },
    {
     "data": {
      "image/png": "[encoded data removed]",
      "text/plain": [
       "<matplotlib.figure.Figure at 0x13aaf0ed0>"
      ]
     },
     "metadata": {},
     "output_type": "display_data"
    },
    {
     "data": {
      "image/png": "[encoded data removed]",
      "text/plain": [
       "<matplotlib.figure.Figure at 0x135ccbe50>"
      ]
     },
     "metadata": {},
     "output_type": "display_data"
    }
   ],
   "source": [
    "## alpha == 1 case finds coordinates regardless of probability density.\n",
    "\n",
    "params[\"alpha\"] = 1.0 ## coefficient to use for diffusion maps. See the wikipedia article.\n",
    "e_vals, e_vecs = run_diffusion_map(data, params)\n",
    "e_vals / la.norm(e_vals)\n",
    "print e_vals\n",
    "for vec in e_vecs.T:\n",
    "    plt.plot(vec)\n",
    "    plt.show()"
   ]
  },
  {
   "cell_type": "markdown",
   "metadata": {},
   "source": [
    "Something fun to try for the $\\alpha = 1$ case at least:"
   ]
  },
  {
   "cell_type": "code",
   "execution_count": 1723,
   "metadata": {
    "collapsed": false,
    "scrolled": false
   },
   "outputs": [
    {
     "name": "stdout",
     "output_type": "stream",
     "text": [
      "[ 1.          0.99992513  0.99968167  0.31123231]\n"
     ]
    },
    {
     "data": {
      "image/png": "[encoded data removed]",
      "text/plain": [
       "<matplotlib.figure.Figure at 0x13b87b210>"
      ]
     },
     "metadata": {},
     "output_type": "display_data"
    },
    {
     "data": {
      "image/png": "[encoded data removed]",
      "text/plain": [
       "<matplotlib.figure.Figure at 0x13ca79790>"
      ]
     },
     "metadata": {},
     "output_type": "display_data"
    },
    {
     "data": {
      "image/png": "[encoded data removed]",
      "text/plain": [
       "<matplotlib.figure.Figure at 0x136a16050>"
      ]
     },
     "metadata": {},
     "output_type": "display_data"
    },
    {
     "data": {
      "image/png": "[encoded data removed]",
      "text/plain": [
       "<matplotlib.figure.Figure at 0x137126910>"
      ]
     },
     "metadata": {},
     "output_type": "display_data"
    }
   ],
   "source": [
    "## Finally, alpha == 0 is the \n",
    "\n",
    "params[\"alpha\"] = 0.0 ## coefficient to use for diffusion maps. See the wikipedia article.\n",
    "e_vals, e_vecs = run_diffusion_map(data, params)\n",
    "e_vals / la.norm(e_vals)\n",
    "print e_vals\n",
    "\n",
    "for vec in e_vecs.T:\n",
    "    plt.plot(vec)\n",
    "    plt.show()"
   ]
  },
  {
   "cell_type": "markdown",
   "metadata": {},
   "source": [
    "## 1D experiment"
   ]
  },
  {
   "cell_type": "markdown",
   "metadata": {},
   "source": [
    "Let's replicate example 1 in http://pca.narod.ru/10MainGorbanKeglWunschZin.pdf\n",
    "\n",
    "Furthermore, let's see what happens as we change the radius $epsilon$ to see how the results depend on the radius of the Gaussian chosen.\n",
    "\n",
    "The average distance between points is 0.0833. Below we experiment with different values of the Gaussian radius. "
   ]
  },
  {
   "cell_type": "code",
   "execution_count": 1725,
   "metadata": {
    "collapsed": false
   },
   "outputs": [],
   "source": [
    "from mpl_toolkits.mplot3d import Axes3D"
   ]
  },
  {
   "cell_type": "code",
   "execution_count": 1726,
   "metadata": {
    "collapsed": false
   },
   "outputs": [],
   "source": [
    "t = sorted([random.uniform(0, 15*np.pi/2) for i in range(400)])"
   ]
  },
  {
   "cell_type": "code",
   "execution_count": 1727,
   "metadata": {
    "collapsed": false
   },
   "outputs": [],
   "source": [
    "xs,ys,zs = list(np.cos(t)), list(t), list(np.sin(t))"
   ]
  },
  {
   "cell_type": "code",
   "execution_count": 1728,
   "metadata": {
    "collapsed": false
   },
   "outputs": [
    {
     "data": {
      "text/plain": [
       "[<mpl_toolkits.mplot3d.art3d.Line3D at 0x13f3eea10>]"
      ]
     },
     "execution_count": 1728,
     "metadata": {},
     "output_type": "execute_result"
    },
    {
     "data": {
      "image/png": "[encoded data removed]",
      "text/plain": [
       "<matplotlib.figure.Figure at 0x13b87b6d0>"
      ]
     },
     "metadata": {},
     "output_type": "display_data"
    }
   ],
   "source": [
    "fig = plt.figure()\n",
    "ax = fig.gca(projection='3d')\n",
    "ax.plot(xs, ys, zs)"
   ]
  },
  {
   "cell_type": "code",
   "execution_count": 1729,
   "metadata": {
    "collapsed": true
   },
   "outputs": [],
   "source": [
    "data = [[x,y,z] for x,y,z in zip(xs,ys,zs)]"
   ]
  },
  {
   "cell_type": "code",
   "execution_count": 1778,
   "metadata": {
    "collapsed": false
   },
   "outputs": [
    {
     "data": {
      "text/plain": [
       "<matplotlib.collections.PathCollection at 0x14a7021d0>"
      ]
     },
     "execution_count": 1778,
     "metadata": {},
     "output_type": "execute_result"
    },
    {
     "data": {
      "image/png": "[encoded data removed]",
      "text/plain": [
       "<matplotlib.figure.Figure at 0x1433aa190>"
      ]
     },
     "metadata": {},
     "output_type": "display_data"
    }
   ],
   "source": [
    "params = {}\n",
    "params[\"epsilon\"] = 100. ## cutoff for nearest neighbors.\n",
    "params[\"gaussian_epsilon\"] = 20. ## width of Gaussian kernel.\n",
    "params[\"alpha\"] = 0. ## coefficient to use for diffusion maps. See the wikipedia article.\n",
    "\n",
    "params[\"data_size\"] = 400\n",
    "params[\"eigen_dims\"] = 3\n",
    "\n",
    "e_vals, e_vecs = run_diffusion_map(data, params,True)\n",
    "v1,v2,v3 = (e_vecs.T)[0:3]\n",
    "plt.scatter(v2,v3)"
   ]
  },
  {
   "cell_type": "code",
   "execution_count": 1749,
   "metadata": {
    "collapsed": false
   },
   "outputs": [],
   "source": [
    "def make_vecs(gauss_eps):\n",
    "    params = {}\n",
    "    params[\"epsilon\"] = 15. ## cutoff for nearest neighbors.\n",
    "    params[\"gaussian_epsilon\"] = gauss_eps ## width of Gaussian kernel.\n",
    "    params[\"alpha\"] = 1. ## coefficient to use for diffusion maps. See the wikipedia article.\n",
    "\n",
    "    params[\"data_size\"] = 400\n",
    "    params[\"eigen_dims\"] = 3\n",
    "\n",
    "    e_vals, e_vecs = run_diffusion_map(data, params)\n",
    "    v1,v2,v3 = (e_vecs.T)[0:3]\n",
    "    return v2,v3"
   ]
  },
  {
   "cell_type": "code",
   "execution_count": 1762,
   "metadata": {
    "collapsed": true
   },
   "outputs": [],
   "source": [
    "stepping_tuple = low,high,inter = 0,8,1\n",
    "D = {i:val for i,val in enumerate(np.linspace(0.1,5.0,10))}"
   ]
  },
  {
   "cell_type": "code",
   "execution_count": 1756,
   "metadata": {
    "collapsed": false
   },
   "outputs": [],
   "source": [
    "plot_scatter = {}\n",
    "for i in range(high):\n",
    "    plot_scatter[i] = make_vecs(D[i])"
   ]
  },
  {
   "cell_type": "code",
   "execution_count": 1757,
   "metadata": {
    "collapsed": true
   },
   "outputs": [],
   "source": [
    "def plot_scatter_saved(i):\n",
    "    v2,v3 = plot_scatter[i]\n",
    "    plt.figure(figsize=(10,10))    \n",
    "    plt.scatter(v2,v3)\n",
    "    plt.show()"
   ]
  },
  {
   "cell_type": "code",
   "execution_count": 1758,
   "metadata": {
    "collapsed": true
   },
   "outputs": [],
   "source": [
    "F = lambda i: plot_scatter_saved(i)"
   ]
  },
  {
   "cell_type": "code",
   "execution_count": 1763,
   "metadata": {
    "collapsed": false
   },
   "outputs": [
    {
     "data": {
      "image/png": "[encoded data removed]",
      "text/plain": [
       "<matplotlib.figure.Figure at 0x143343790>"
      ]
     },
     "metadata": {},
     "output_type": "display_data"
    }
   ],
   "source": [
    "interact(F, i=stepping_tuple )"
   ]
  },
  {
   "cell_type": "code",
   "execution_count": 1760,
   "metadata": {
    "collapsed": true
   },
   "outputs": [],
   "source": [
    "## write to file\n",
    "pickle.dump( plot_scatter, open( \"scatterplots.p\", \"wb\" ) )"
   ]
  },
  {
   "cell_type": "code",
   "execution_count": 1761,
   "metadata": {
    "collapsed": true
   },
   "outputs": [],
   "source": [
    "## read from file\n",
    "plot_scatter = pickle.load( open( \"scatterplots.p\", \"rb\" ) )"
   ]
  },
  {
   "cell_type": "code",
   "execution_count": 1771,
   "metadata": {
    "collapsed": false
   },
   "outputs": [
    {
     "data": {
      "text/plain": [
       "(400, 3)"
      ]
     },
     "execution_count": 1771,
     "metadata": {},
     "output_type": "execute_result"
    }
   ],
   "source": [
    "np.asmatrix(e_vecs).shape"
   ]
  },
  {
   "cell_type": "code",
   "execution_count": null,
   "metadata": {
    "collapsed": true
   },
   "outputs": [],
   "source": []
  }
 ],
 "metadata": {
  "kernelspec": {
   "display_name": "Python 2",
   "language": "python",
   "name": "python2"
  },
  "language_info": {
   "codemirror_mode": {
    "name": "ipython",
    "version": 2
   },
   "file_extension": ".py",
   "mimetype": "text/x-python",
   "name": "python",
   "nbconvert_exporter": "python",
   "pygments_lexer": "ipython2",
   "version": "2.7.12"
  },
  "widgets": {
   "state": {
    "0152f8f5ee544cb9a901687a07c87100": {
     "views": []
    },
    "04952a54b95b442db73b1913884ec372": {
     "views": []
    },
    "0722c8f4243648b8970ff8648be03b77": {
     "views": []
    },
    "075980b9da6a40718bb8bd9df5726c6b": {
     "views": []
    },
    "0bc5d2fd1c624a6b87e50bcf9b6eb99a": {
     "views": []
    },
    "0c15634f7e78408b976b5d9a347bf4eb": {
     "views": []
    },
    "112f2ddc41674a9283a836a766b2c69b": {
     "views": []
    },
    "1236ea72b43c46278ba9cda061549b5b": {
     "views": []
    },
    "132876b6425548dda42ab76691f47e83": {
     "views": []
    },
    "13ed94fb7d8c4bbab682ff88247b1bed": {
     "views": []
    },
    "163d051dbb0b40089fc89a317a1aa8c5": {
     "views": []
    },
    "16f0f72d70b04925a837324d72f1f786": {
     "views": []
    },
    "1b04fbc78eba4e3fa8c9de7ec9f44095": {
     "views": []
    },
    "1be4adb087b943b180d2297d0bf2c3f7": {
     "views": []
    },
    "1daab573cbff4a93b22ea9e4c057ff25": {
     "views": []
    },
    "213d267550af48a4b5a98f717ea00c99": {
     "views": []
    },
    "2172f082d94648e18be8238f4704a8d0": {
     "views": []
    },
    "23a981bf103c489a8ea67d13ea82408b": {
     "views": []
    },
    "288d4eaf4c5e4d889dec51ebb3e16e0c": {
     "views": []
    },
    "2b23d501734148b4a99c6b4c1b28d66b": {
     "views": []
    },
    "2c0c0528c6804c09adb9a031fb7afafd": {
     "views": []
    },
    "2e8370ac2ac34dc3ab6630819b5e1450": {
     "views": []
    },
    "2fe234663a134726982e7df39b310cea": {
     "views": []
    },
    "31fc57cb6068491c933ceb07500b87dc": {
     "views": []
    },
    "32390fb0a1b74b0d9b38e7e4a6d70c8d": {
     "views": []
    },
    "33b32ce9fc334e989157da41d96bcb51": {
     "views": []
    },
    "33fecea9982a44e8999c942cabe08fe0": {
     "views": []
    },
    "342ad7c7bb4141c1817960c6d3ea57d0": {
     "views": []
    },
    "355c7652312b4f93ac323f58074eccdc": {
     "views": []
    },
    "36049552bcd242719a03f4a86c77d07f": {
     "views": []
    },
    "37d8318ea50744ff9edc195afd36dc36": {
     "views": []
    },
    "37f19ac3469745108991f465013357a9": {
     "views": []
    },
    "3a241acf3a6a468db187c208bd0538d3": {
     "views": []
    },
    "3b1631d8eaa64048bd5ee5a79c233d5a": {
     "views": []
    },
    "3d4a53fa5c43445f943df177f684be64": {
     "views": []
    },
    "3dbc877888dc487ca9509e7f965d9088": {
     "views": []
    },
    "407c1c49eafc4d7a90bf057a3f97d192": {
     "views": []
    },
    "4263172c5fee4c4b8271d52192989957": {
     "views": []
    },
    "43d0401a86444efa9b86e08c95c4f7bd": {
     "views": []
    },
    "44faa18f08854ec19f7d172d16009c3b": {
     "views": []
    },
    "4690923e49b4410aa1aa9fe62fcd5d1d": {
     "views": []
    },
    "46a544f30ade41ffb6e3a38d085baac8": {
     "views": []
    },
    "46a743066a7845efb927fc0d56628ed1": {
     "views": []
    },
    "46f97bde6ad744eca3ead0abae5dff31": {
     "views": []
    },
    "47dc445df85b49519c348a578381c2c1": {
     "views": []
    },
    "4a7807a8ad5d457fb77bba90fbd75f9d": {
     "views": []
    },
    "4ca9b5407b974044a88e51e0b8371cb0": {
     "views": []
    },
    "4cac77ea478046678d120cf4fc460915": {
     "views": []
    },
    "4d6215f232a344f2a7524156780c0f1a": {
     "views": []
    },
    "4da7df003b084c9a9dc296f8bcd50b50": {
     "views": []
    },
    "4f1fa05dc385425a8c76b3cd632ba655": {
     "views": []
    },
    "4f3d2f3e502b45e8ab1c6928a9867659": {
     "views": []
    },
    "5094a82513c243cf89e80f06e2ef56dc": {
     "views": []
    },
    "50ea5ad697fc4b3c95e3a7325a791304": {
     "views": []
    },
    "50f5808bf60b406d9e3e1a3d3e0d82f0": {
     "views": []
    },
    "51adb502bc044364a8dbc0c59707b985": {
     "views": []
    },
    "5373865e43b04bc1a9ec03bd2e1a9340": {
     "views": []
    },
    "53b69b38e8164e77b789c43a5f4055fc": {
     "views": []
    },
    "53d28e66f1b540e6af6d12be392da9c7": {
     "views": []
    },
    "55a054d86fc747dd9f012d2ea79f528a": {
     "views": []
    },
    "55c3fc26dc8c4a8fb77874f4b0c4b3e2": {
     "views": []
    },
    "5670f704a12840d6a15929babc4bccf6": {
     "views": []
    },
    "5703fd1d435747e49b64fb10a60612ef": {
     "views": []
    },
    "582f2b850ffd4fb884e03d0940473d32": {
     "views": []
    },
    "5d8125256d87447d9e6325b6f043fe59": {
     "views": []
    },
    "60a33baf3243430d9d70bb462b45a2c1": {
     "views": []
    },
    "62133504ce474649896226aeb692c6f7": {
     "views": []
    },
    "640e0cca78634dbca0446686cf693a6a": {
     "views": []
    },
    "65eeee7ebdfb410587dc4253cf4a08dc": {
     "views": []
    },
    "662935b9804e4467959e9db972a87c63": {
     "views": []
    },
    "663bafecaadb42bd9ea1b6ac0c7bea7b": {
     "views": []
    },
    "67390252f88e4ee782504196bc7ae610": {
     "views": []
    },
    "681c20d4ab0b4f46b5cd4a1c139b7ce1": {
     "views": []
    },
    "69322c7af6bd4ce7935b6970797480d0": {
     "views": []
    },
    "69982bb1723d456b806fd23482f5ff13": {
     "views": []
    },
    "6a070f001d764f79b416e959e2ce591e": {
     "views": []
    },
    "6f23916a87554caaa804b4a3e06377e9": {
     "views": []
    },
    "7012dc2dbfa84c4cab6eb54fd9051296": {
     "views": []
    },
    "71254aff7f804c83b88c08c45e45cd08": {
     "views": []
    },
    "73888c4ecdf143a79d32076515bb501f": {
     "views": []
    },
    "73e1e671ab9248a283d68f172c3b2744": {
     "views": []
    },
    "762cfb331acb4d42853455a3d70dda13": {
     "views": []
    },
    "779e597358b44c898c07036f5342299b": {
     "views": []
    },
    "78644c38013a49bba3b39a48be07f331": {
     "views": []
    },
    "7ae7a709b9fc47179548210496746acc": {
     "views": []
    },
    "7e93b3ed034b4de9a34031b3432475e2": {
     "views": []
    },
    "7e9dfdfbe98d48c09ce5ae75b2bf481f": {
     "views": []
    },
    "7f7b61d4853048639424aa3e715cf4c1": {
     "views": []
    },
    "82033846f30c4ff596df03527ce909b4": {
     "views": []
    },
    "83bca8c149f14a35884b9999ac2534b6": {
     "views": []
    },
    "84501659cf774e0b8f79919b0fe292bf": {
     "views": []
    },
    "870e58af9c3a41558172cb1a97703021": {
     "views": []
    },
    "8863077e50c442589e9bb830df70c7eb": {
     "views": []
    },
    "8883e8cdebd3415ba6b2c0d1ea9590f3": {
     "views": []
    },
    "88d5ff3722804b71b54543587d4f186f": {
     "views": []
    },
    "89f74eaaf8e94cc687be7b4b8f33db7c": {
     "views": []
    },
    "8b32afe2822c4233bede874ff0b0a3c1": {
     "views": []
    },
    "8d3b0d956c69498ca0c80b58ec090107": {
     "views": []
    },
    "8d706cde100e43b98f4d6c8ffbe28d88": {
     "views": []
    },
    "8f3bfcf8b335485dbfec6d998a020911": {
     "views": []
    },
    "8f61ddfd1b0a4fdabaff83ebe17e9e91": {
     "views": []
    },
    "96a99323b609450ba373b8eaab3700f5": {
     "views": []
    },
    "98726b13c2314a9799dda6c1e7ed7dca": {
     "views": []
    },
    "9ac8b38f1b3449548043fc011fce1849": {
     "views": []
    },
    "9ededf5d0eee4fb8a2f0d36dccfe715a": {
     "views": []
    },
    "a3cb01b5ade44fcd92fe71fe584a3075": {
     "views": []
    },
    "a48f109603214c20934cebc384271355": {
     "views": []
    },
    "abab5bcaeb0b474d82f5e542db732a70": {
     "views": []
    },
    "abde1d74fc8c4e07b6d1b687a051d86d": {
     "views": []
    },
    "ae8a504a924846ae86d473585f5474f7": {
     "views": []
    },
    "aedeceadda034a47a68b60c63c66260b": {
     "views": []
    },
    "af569b6a75044fffafa7ba3640795e93": {
     "views": []
    },
    "b1d024e49ceb480395fb3aaaea5eb70e": {
     "views": []
    },
    "b2f60222ad4a4d71b56219b67470e693": {
     "views": []
    },
    "b5047dd34952475187b7b3b4c560e64f": {
     "views": []
    },
    "b5252e43dfa74355903166ed1fa2abe0": {
     "views": []
    },
    "b6185cc08c364bd5b234ef1001415bc1": {
     "views": []
    },
    "bd81ba1a8a0146a2bb2e141c0e2c9069": {
     "views": []
    },
    "c0ad4d98cbee4bf2964ba1605c4d361b": {
     "views": []
    },
    "c16e1a4aebdd443a9cd05a36890c2468": {
     "views": []
    },
    "c283d83b9feb4f52881093246312c8ba": {
     "views": []
    },
    "c2cf5017b89d4bf1a4f845514ce65817": {
     "views": []
    },
    "c35257e57abd406397d95b873431e9e6": {
     "views": []
    },
    "c44aff30a87f4ea7a2b185a8e39ef1ae": {
     "views": []
    },
    "c6fdeb71fcc4497f8fe08c0dbf226252": {
     "views": []
    },
    "c75bf2b1b0164066beaac3ebcc596ca8": {
     "views": []
    },
    "ca9eb490b9974a31b2cd302a76511e4e": {
     "views": []
    },
    "cf69fc5a63ec474cabf5fb8eb810d740": {
     "views": []
    },
    "d3b455e252eb4076a2fb85cde3045e35": {
     "views": []
    },
    "d51c34bcd11e4cc88c67bb24fbac1669": {
     "views": []
    },
    "d5bfc8a1fe8348c8a8d6ebcc551bfc78": {
     "views": []
    },
    "d71295f9532c4ccaa8eafb4f861aa1ed": {
     "views": []
    },
    "d948a5d128dc4145af5700a1c7efad95": {
     "views": []
    },
    "db2de5f616714345b30683f792cdcd27": {
     "views": []
    },
    "ddb0449ac9914d1a86326c68b626204a": {
     "views": []
    },
    "de3c777e1a8847d498d28125e9eb89ac": {
     "views": []
    },
    "df0f302c4a014796a0463f23bdb4b0d7": {
     "views": []
    },
    "e2b0a9cf0ce44e8480d3d4d177eaa842": {
     "views": []
    },
    "e3ee85bb9d394b4a888e5badf5d62e3c": {
     "views": []
    },
    "e483220b82034677aadd30ad896881c3": {
     "views": []
    },
    "e74368a7912e4dcca69cf01a2dcd1e67": {
     "views": []
    },
    "e7e65b169016450aaaeae7abfb058f95": {
     "views": []
    },
    "e90f769c08c24d4b8d16bd6cf443f292": {
     "views": []
    },
    "e97c50d856f74a539673c63dd75379b4": {
     "views": []
    },
    "ea23711836154f8d87ff2935fe2e262e": {
     "views": []
    },
    "ed6c187631654ddb8705ee24eb8c1f1c": {
     "views": []
    },
    "eed42b2c45574c8da8b04d913aae5a43": {
     "views": []
    },
    "eeff0c2ea5714eb5bb5dd625d062e7ef": {
     "views": []
    },
    "ef81cd7bb8644e2f8e791dbbee0c36d8": {
     "views": []
    },
    "f2fc7ccba7de4209959af4c394d7dc80": {
     "views": [
      {
       "cell_index": 24
      }
     ]
    },
    "f687dca461634a87819371c847f1c240": {
     "views": []
    },
    "fa25f2b477084e11b0c3eb051236f71a": {
     "views": []
    },
    "faad933db2c24cdea8b0d868572ec4c4": {
     "views": []
    },
    "fb2fa0b2f9d5436aa26c7997902fc3fd": {
     "views": []
    },
    "fbcb89ab31744012930d9c9e062b7fd4": {
     "views": []
    },
    "fcaf7360086b493888630b5016d65dec": {
     "views": []
    }
   },
   "version": "1.1.2"
  }
 },
 "nbformat": 4,
 "nbformat_minor": 0
}
