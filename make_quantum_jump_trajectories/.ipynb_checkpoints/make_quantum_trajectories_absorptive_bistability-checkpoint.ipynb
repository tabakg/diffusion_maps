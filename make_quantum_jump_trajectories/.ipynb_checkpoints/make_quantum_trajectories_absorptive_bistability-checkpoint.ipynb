{
 "cells": [
  {
   "cell_type": "markdown",
   "metadata": {},
   "source": [
    "##  In this notebook we build different kinds of quantum trajectories. We will be primairly interested in the absorptive bistability (Jaynes Cummings model)\n",
    "\n",
    "I store trajectory files as *.pkl files or *.mat files. This way I can easily load them into another notebook, or load the trajectories to matlab."
   ]
  },
  {
   "cell_type": "code",
   "execution_count": 1,
   "metadata": {
    "collapsed": false,
    "scrolled": true
   },
   "outputs": [
    {
     "data": {
      "text/plain": [
       "'3.5.2 |Continuum Analytics, Inc.| (default, Jul  2 2016, 17:52:12) \\n[GCC 4.2.1 Compatible Apple LLVM 4.2 (clang-425.0.28)]'"
      ]
     },
     "execution_count": 1,
     "metadata": {},
     "output_type": "execute_result"
    }
   ],
   "source": [
    "## Some of the code seems to require Python 3\n",
    "\n",
    "import sys\n",
    "sys.version"
   ]
  },
  {
   "cell_type": "code",
   "execution_count": 2,
   "metadata": {
    "collapsed": false
   },
   "outputs": [],
   "source": [
    "import os\n",
    "directory_name = \"/trajectory_data\"\n",
    "d = (os.getcwd() + directory_name)\n",
    "try:\n",
    "    os.stat(d)\n",
    "except:\n",
    "    os.mkdir(d)"
   ]
  },
  {
   "cell_type": "code",
   "execution_count": 3,
   "metadata": {
    "collapsed": true
   },
   "outputs": [],
   "source": [
    "####\n",
    "####\n",
    "\n",
    "### Current implemented regime is \"absorptive_bistable\"\n",
    "### TODO: implement other regimes.\n",
    "\n",
    "Regime = \"absorptive_bistable\"\n",
    "\n",
    "####\n",
    "\n",
    "### Which file formats to save trajectory data.\n",
    "### Name of the file to save. The extension will be .mat for matlab and .pkl for pickle.\n",
    "\n",
    "## matlab file.\n",
    "save_mat = True\n",
    "## pkl file (can be loaded in python) in the same format as above.\n",
    "save_pkl = True\n",
    "file_name = \".\" + directory_name + '/' + Regime\n",
    "\n",
    "####\n",
    "####"
   ]
  },
  {
   "cell_type": "code",
   "execution_count": 4,
   "metadata": {
    "collapsed": false
   },
   "outputs": [],
   "source": [
    "## Sometimes Macs will have an issue with Matplotlib, this seems to fix it.\n",
    "## see http://stackoverflow.com/questions/21784641/installation-issue-with-matplotlib-python\n",
    "\n",
    "import matplotlib as mil\n",
    "mil.use('TkAgg')"
   ]
  },
  {
   "cell_type": "code",
   "execution_count": 5,
   "metadata": {
    "collapsed": false
   },
   "outputs": [],
   "source": [
    "from qnet.algebra.operator_algebra import *\n",
    "from qnet.algebra.circuit_algebra import *\n",
    "import qnet.algebra.state_algebra as sa\n",
    "\n",
    "import qutip\n",
    "\n",
    "import sympy; sympy.init_printing(use_latex=\"mathjax\")\n",
    "from sympy import sqrt\n",
    "\n",
    "import numpy as np\n",
    "\n",
    "from IPython.display import display\n",
    "\n",
    "import matplotlib.pyplot as plt\n",
    "%matplotlib inline\n",
    "plt.style.use(\"ggplot\")\n",
    "\n",
    "import pickle"
   ]
  },
  {
   "cell_type": "markdown",
   "metadata": {},
   "source": [
    "## Make operators"
   ]
  },
  {
   "cell_type": "code",
   "execution_count": 6,
   "metadata": {
    "collapsed": false
   },
   "outputs": [],
   "source": [
    "a = Destroy(1)\n",
    "ad = a.dag()\n",
    "\n",
    "sm = LocalSigma(2, 1,0)/sqrt(2)\n",
    "sp = sm.dag()\n",
    "sz = sp*sm - sm*sp \n",
    "\n",
    "j = Jminus(2)\n",
    "jp = j.dag()\n",
    "jz = Jz(2)\n",
    "\n",
    "jx = (jp + j) / 2.\n",
    "jy = (jp - j) / 2."
   ]
  },
  {
   "cell_type": "markdown",
   "metadata": {},
   "source": [
    "## Make SLH model"
   ]
  },
  {
   "cell_type": "code",
   "execution_count": 7,
   "metadata": {
    "collapsed": false
   },
   "outputs": [
    {
     "data": {
      "text/latex": [
       "$\\left( \\begin{pmatrix} {\\rm 1} & {\\rm 0} \\\\ {\\rm 0} & {\\rm 1}\\end{pmatrix}, \\begin{pmatrix} {\\rm  \\Omega} +  \\sqrt{\\kappa} {a_{{{\\rm 1}}}} \\\\  \\sqrt{\\gamma} {J_-^{({{\\rm 2}})}}\\end{pmatrix}, {\\rm  \\Delta {J_z^{({{\\rm 2}})}}} -  i g_{0} \\left({\\rm  - {a_{{{\\rm 1}}}^\\dagger} {J_-^{({{\\rm 2}})}}} +  {a_{{{\\rm 1}}}} {J_+^{({{\\rm 2}})}}\\right) +  \\frac{i}{2} \\left({\\rm  - \\Omega \\sqrt{\\kappa} {a_{{{\\rm 1}}}^\\dagger}} +  \\sqrt{\\kappa} \\overline{\\Omega} {a_{{{\\rm 1}}}}\\right) +  \\Theta  {a_{{{\\rm 1}}}^\\dagger} {a_{{{\\rm 1}}}} \\right)$"
      ],
      "text/plain": [
       "SLH(Matrix([[1, 0], [0, 1]]), Matrix([[OperatorPlus(ScalarTimesOperator(Omega, IdentityOperator), ScalarTimesOperator(sqrt(kappa), Destroy(LocalSpace('1', ''))))], [ScalarTimesOperator(sqrt(gamma), Jminus(LocalSpace('2', '')))]]), OperatorPlus(ScalarTimesOperator(Delta, Jz(LocalSpace('2', ''))), ScalarTimesOperator(-I*g0, OperatorPlus(ScalarTimesOperator(-1, OperatorTimes(Create(LocalSpace('1', '')), Jminus(LocalSpace('2', '')))), OperatorTimes(Destroy(LocalSpace('1', '')), Jplus(LocalSpace('2', ''))))), ScalarTimesOperator(I/2, OperatorPlus(ScalarTimesOperator(-Omega*sqrt(kappa), Create(LocalSpace('1', ''))), ScalarTimesOperator(sqrt(kappa)*conjugate(Omega), Destroy(LocalSpace('1', ''))))), ScalarTimesOperator(Theta, OperatorTimes(Create(LocalSpace('1', '')), Destroy(LocalSpace('1', ''))))))"
      ]
     },
     "execution_count": 7,
     "metadata": {},
     "output_type": "execute_result"
    }
   ],
   "source": [
    "k,g0,g = symbols(\"kappa, g0,gamma\", positive=True)\n",
    "DD, TT = symbols(\"Delta, Theta\", real=True)\n",
    "W = symbols(\"Omega\")\n",
    "\n",
    "L = [sqrt(k)*a, \n",
    "     sqrt(g)*j]\n",
    "H = -I*g0*(a*jp - ad * j) + DD*jz + TT*ad*a\n",
    "S = identity_matrix(2)\n",
    "\n",
    "slh = SLH(S, L, H).coherent_input(W,0)\n",
    "slh"
   ]
  },
  {
   "cell_type": "markdown",
   "metadata": {},
   "source": [
    "## Compute parameters"
   ]
  },
  {
   "cell_type": "code",
   "execution_count": 8,
   "metadata": {
    "collapsed": false
   },
   "outputs": [],
   "source": [
    "## General parameters\n",
    "\n",
    "params = {}\n",
    "\n",
    "ntraj = params['Ntraj'] = 1\n",
    "duration = params['duration'] = 200001\n",
    "delta_t = params['delta_t'] = 2e-1\n",
    "Nfock_a = params['Nfock_a'] = 50\n",
    "Nfock_j = params['Nfock_j'] = 2"
   ]
  },
  {
   "cell_type": "code",
   "execution_count": 9,
   "metadata": {
    "collapsed": false
   },
   "outputs": [
    {
     "data": {
      "image/png": "[encoded data removed]",
      "text/plain": [
       "<matplotlib.figure.Figure at 0x10be49978>"
      ]
     },
     "metadata": {},
     "output_type": "display_data"
    }
   ],
   "source": [
    "## Numerical parameters\n",
    "\n",
    "a.space.dimension = Nfock_a\n",
    "j.space.dimension = Nfock_j\n",
    "\n",
    "# default are for absorptive bistability\n",
    "def make_nparams(Cn=10.5, kn=.1, yn=11.3, DDn=0, TTn=0., J = 0.5):\n",
    "    g0n = np.sqrt(2.*kn*Cn)\n",
    "    Wn = yn*kn/np.sqrt(2)/g0n\n",
    "    \n",
    "    nparams = {\n",
    "        W: Wn/np.sqrt(2*kn),\n",
    "        k: 2*kn,\n",
    "        g: 2./np.sqrt(2*J),\n",
    "        g0: -g0n/np.sqrt(2*J),\n",
    "        DD: DDn,\n",
    "        TT: TTn,\n",
    "    }\n",
    "    xrs = np.linspace(0, 10)\n",
    "    yrs = 2*Cn*xrs/(1+xrs**2) + xrs\n",
    "    plt.plot(yrs, xrs)\n",
    "    plt.vlines([yn], *plt.ylim())\n",
    "    return nparams\n",
    "\n",
    "if Regime == \"absorptive_bistable\":\n",
    "    nparams = make_nparams()\n",
    "else:\n",
    "    raise ValueError(\"Unknown regime, or not implemented yet.\")\n",
    "\n",
    "Hq, Lqs = slh.substitute(nparams).HL_to_qutip()"
   ]
  },
  {
   "cell_type": "code",
   "execution_count": 27,
   "metadata": {
    "collapsed": false
   },
   "outputs": [],
   "source": [
    "## Put parameters in a single dictionary.\n",
    "\n",
    "params.update({symbol.name:nparams[symbol] for symbol in nparams})"
   ]
  },
  {
   "cell_type": "code",
   "execution_count": 28,
   "metadata": {
    "collapsed": false
   },
   "outputs": [],
   "source": [
    "## Observables\n",
    "\n",
    "obs = (a, j, jz, a*a, a.dag()*a, a*jp, jp, jx, jy)\n",
    "obsq = [o.to_qutip(full_space=slh.space) for o in obs]"
   ]
  },
  {
   "cell_type": "code",
   "execution_count": null,
   "metadata": {
    "collapsed": false
   },
   "outputs": [],
   "source": [
    "tlist = np.linspace(0, int(duration * delta_t), duration )\n",
    "psi0 = qutip.tensor(qutip.basis(Nfock_a,0),qutip.basis(Nfock_j,0))\n",
    "mcdata = qutip.mcsolve(\n",
    "    Hq, psi0, tlist, Lqs, obsq, ntraj=ntraj, \n",
    "    options=qutip.Odeoptions(average_expect=False,\n",
    "    store_states=True, seeds = ntraj*[333]\n",
    "    ))"
   ]
  },
  {
   "cell_type": "code",
   "execution_count": null,
   "metadata": {
    "collapsed": false
   },
   "outputs": [],
   "source": [
    "## Display observables\n",
    "\n",
    "nobs = len(obsq)\n",
    "\n",
    "nc = 2\n",
    "nr = int(np.ceil(nobs/nc))\n",
    "\n",
    "for jj in range(1): ## trajectory index\n",
    "    f, axes = plt.subplots(nrows = nr, ncols=nc, sharex=True, figsize=(16,12))\n",
    "    axesf = axes.ravel()\n",
    "    for kk, obskk in enumerate(obs):  ## plot of each observable\n",
    "        datakk = mcdata.expect[jj][kk].astype(\"complex128\")\n",
    "        axesf[kk].plot(tlist, np.real(datakk), \"b.-\", alpha=.4)\n",
    "        if np.linalg.norm(np.imag(datakk)) > 1e-3:\n",
    "            axesf[kk].plot(tlist, np.imag(datakk))\n",
    "        axesf[kk].set_title(obskk._repr_latex_())\n",
    "    plt.savefig(\"absorptive_bistability_trajectory_{:2d}.png\".format(jj))"
   ]
  },
  {
   "cell_type": "code",
   "execution_count": null,
   "metadata": {
    "collapsed": false
   },
   "outputs": [],
   "source": [
    "## save as matlab or pkl file\n",
    "\n",
    "from mcdata2matfile_or_pkl import mcdata2matfile_or_pkl\n",
    "\n",
    "if save_mat:\n",
    "    mcdata2matfile_or_pkl(mcdata, file_name, obs, params, save_mat = True, save_pkl = False)    \n",
    "if save_pkl:\n",
    "    mcdata2matfile_or_pkl(mcdata, file_name, obs,  params, save_mat = False, save_pkl = True)"
   ]
  },
  {
   "cell_type": "code",
   "execution_count": null,
   "metadata": {
    "collapsed": true
   },
   "outputs": [],
   "source": []
  }
 ],
 "metadata": {
  "anaconda-cloud": {},
  "kernelspec": {
   "display_name": "Python [default]",
   "language": "python",
   "name": "python3"
  },
  "language_info": {
   "codemirror_mode": {
    "name": "ipython",
    "version": 3
   },
   "file_extension": ".py",
   "mimetype": "text/x-python",
   "name": "python",
   "nbconvert_exporter": "python",
   "pygments_lexer": "ipython3",
   "version": "3.5.2"
  }
 },
 "nbformat": 4,
 "nbformat_minor": 0
}
