{
 "cells": [
  {
   "cell_type": "code",
   "execution_count": 2,
   "metadata": {
    "collapsed": false,
    "scrolled": true
   },
   "outputs": [
    {
     "data": {
      "text/plain": [
       "'3.5.2 |Continuum Analytics, Inc.| (default, Jul  2 2016, 17:52:12) \\n[GCC 4.2.1 Compatible Apple LLVM 4.2 (clang-425.0.28)]'"
      ]
     },
     "execution_count": 2,
     "metadata": {},
     "output_type": "execute_result"
    }
   ],
   "source": [
    "## Some of the code seems to require Python 3\n",
    "\n",
    "import sys\n",
    "sys.version"
   ]
  },
  {
   "cell_type": "code",
   "execution_count": 3,
   "metadata": {
    "collapsed": false
   },
   "outputs": [
    {
     "name": "stderr",
     "output_type": "stream",
     "text": [
      "/Users/gil/anaconda/envs/python_3_env/lib/python3.5/site-packages/matplotlib/__init__.py:1357: UserWarning:  This call to matplotlib.use() has no effect\n",
      "because the backend has already been chosen;\n",
      "matplotlib.use() must be called *before* pylab, matplotlib.pyplot,\n",
      "or matplotlib.backends is imported for the first time.\n",
      "\n",
      "  warnings.warn(_use_error_msg)\n"
     ]
    }
   ],
   "source": [
    "from qnet.algebra.operator_algebra import *\n",
    "from qnet.algebra.circuit_algebra import *\n",
    "import qnet.algebra.state_algebra as sa\n",
    "from qnet.circuit_components.displace_cc import Displace\n",
    "\n",
    "from qnet.algebra.operator_algebra import get_coeffs ### used later to make time-dependent terms from reduced model.\n",
    "\n",
    "from qutip import *\n",
    "from scipy import *\n",
    "\n",
    "import sympy; sympy.init_printing(use_latex=\"mathjax\")\n",
    "from sympy import sqrt\n",
    "import numpy as np\n",
    "\n",
    "from IPython.display import display\n",
    "\n",
    "import matplotlib.pyplot as plt\n",
    "%matplotlib inline\n",
    "plt.style.use(\"ggplot\")\n",
    "\n",
    "import itertools\n",
    "from imp import reload\n",
    "import pickle\n",
    "\n",
    "## Sometimes Macs will have an issue with Matplotlib, this seems to fix it.\n",
    "## see http://stackoverflow.com/questions/21784641/installation-issue-with-matplotlib-python\n",
    "\n",
    "import matplotlib as mil\n",
    "mil.use('TkAgg')"
   ]
  },
  {
   "cell_type": "code",
   "execution_count": 4,
   "metadata": {
    "collapsed": true
   },
   "outputs": [],
   "source": [
    "## save to a folder\n",
    "\n",
    "import os\n",
    "directory_name = \"/trajectory_data\"\n",
    "d = (os.getcwd() + directory_name)\n",
    "try:\n",
    "    os.stat(d)\n",
    "except:\n",
    "    os.mkdir(d)"
   ]
  },
  {
   "cell_type": "code",
   "execution_count": 52,
   "metadata": {
    "collapsed": false
   },
   "outputs": [],
   "source": [
    "####\n",
    "Regime = \"kerr_bistable_cascade\"\n",
    "\n",
    "# Define Kerr parameters\n",
    "chi = symbols(\"chi\", real=True, positive=True)\n",
    "Delta = symbols(\"Delta\", real=True)\n",
    "kappa_1, kappa_2 = symbols(\"kappa_1, kappa_2\", real=True, positive=True)\n",
    "alpha0 = symbols(\"alpha_0\")\n",
    "\n",
    "## bistable regime\n",
    "if Regime == \"kerr_bistable_cascade\":\n",
    "    params = {alpha0 : 49., chi : -106.066, Delta : 750., kappa_1 : 220, kappa_2 : 1e-10,\n",
    "              'Ntraj' : 1, 'duration' : 10000., 'Nfock' : 15}\n",
    "else:\n",
    "    ## qubit regime\n",
    "    params = {alpha0 : 10.0, chi : -100, Delta : 1e-10, kappa_1 : 0.5, kappa_2 : 1e-10,\n",
    "              'Ntraj' : 10, 'duration' : 25000., 'Nfock' : 15}\n",
    "\n",
    "## These are used later in the simulation\n",
    "Ntraj = params['Ntraj']\n",
    "duration = params['duration']\n",
    "Nfock = params['Nfock']\n"
   ]
  },
  {
   "cell_type": "code",
   "execution_count": 57,
   "metadata": {
    "collapsed": true
   },
   "outputs": [],
   "source": [
    "## matlab file.\n",
    "save_mat = False\n",
    "## pkl file (can be loaded in python) in the same format as above.\n",
    "save_pkl = True\n",
    "file_name = \".\" + directory_name + '/' + Regime"
   ]
  },
  {
   "cell_type": "code",
   "execution_count": 39,
   "metadata": {
    "collapsed": true
   },
   "outputs": [],
   "source": [
    "NUM_KERR = 2"
   ]
  },
  {
   "cell_type": "code",
   "execution_count": 40,
   "metadata": {
    "collapsed": false
   },
   "outputs": [],
   "source": [
    "# Construct Kerr SLH\n",
    "a_lst = [Destroy(str(i)) for i in range(NUM_KERR)]\n",
    "\n",
    "for a in a_lst:\n",
    "    a.space.dimension = Nfock\n",
    "\n",
    "S_lst = [-identity_matrix(2)]*NUM_KERR\n",
    "L_lst = [[sqrt(kappa_1)*a_k, sqrt(kappa_2)*a_k] for a_k in a_lst]\n",
    "H_lst = [Delta*a_k.dag()*a_k + chi/2*a_k.dag()*a_k.dag()*a_k*a_k for a_k in a_lst]\n",
    "KERR_lst = [SLH(S, L, H).toSLH() for S,L,H in zip(S_lst,L_lst,H_lst) ]"
   ]
  },
  {
   "cell_type": "code",
   "execution_count": 41,
   "metadata": {
    "collapsed": true
   },
   "outputs": [],
   "source": [
    "## single Kerr SLH\n",
    "single_kerr_slh = KERR_lst[0] << Displace(alpha=alpha0)+cid(1)\n",
    "single_kerr_slh = single_kerr_slh.toSLH()"
   ]
  },
  {
   "cell_type": "code",
   "execution_count": 42,
   "metadata": {
    "collapsed": true
   },
   "outputs": [],
   "source": [
    "## multiple Kerr SLH\n",
    "slh = single_kerr_slh\n",
    "for i in range(1,NUM_KERR):\n",
    "    slh = KERR_lst[i]<< slh\n",
    "slh = slh.toSLH()"
   ]
  },
  {
   "cell_type": "markdown",
   "metadata": {},
   "source": [
    "## $H$ and $L$ of single Kerr."
   ]
  },
  {
   "cell_type": "code",
   "execution_count": 43,
   "metadata": {
    "collapsed": false,
    "scrolled": true
   },
   "outputs": [
    {
     "data": {
      "text/latex": [
       "$\\left( \\begin{pmatrix} {\\rm -1} & {\\rm 0} \\\\ {\\rm 0} & {\\rm -1}\\end{pmatrix}, \\begin{pmatrix} {\\rm  - \\alpha_{0}} +  \\sqrt{\\kappa_{1}} {a_{{{\\rm 0}}}} \\\\  \\sqrt{\\kappa_{2}} {a_{{{\\rm 0}}}}\\end{pmatrix}, {\\rm  \\frac{i}{2} \\left({\\rm  \\alpha_{0} \\sqrt{\\kappa_{1}} {a_{{{\\rm 0}}}^\\dagger}} -  \\sqrt{\\kappa_{1}} \\overline{\\alpha_{0}} {a_{{{\\rm 0}}}}\\right)} +  \\frac{\\chi}{2}  {a_{{{\\rm 0}}}^\\dagger} {a_{{{\\rm 0}}}^\\dagger} {a_{{{\\rm 0}}}} {a_{{{\\rm 0}}}} +  \\Delta  {a_{{{\\rm 0}}}^\\dagger} {a_{{{\\rm 0}}}} \\right)$"
      ],
      "text/plain": [
       "SLH(Matrix([[-1, 0], [0, -1]]), Matrix([[OperatorPlus(ScalarTimesOperator(-alpha_0, IdentityOperator), ScalarTimesOperator(sqrt(kappa_1), Destroy(LocalSpace('0', ''))))], [ScalarTimesOperator(sqrt(kappa_2), Destroy(LocalSpace('0', '')))]]), OperatorPlus(ScalarTimesOperator(I/2, OperatorPlus(ScalarTimesOperator(alpha_0*sqrt(kappa_1), Create(LocalSpace('0', ''))), ScalarTimesOperator(-sqrt(kappa_1)*conjugate(alpha_0), Destroy(LocalSpace('0', ''))))), ScalarTimesOperator(chi/2, OperatorTimes(Create(LocalSpace('0', '')), Create(LocalSpace('0', '')), Destroy(LocalSpace('0', '')), Destroy(LocalSpace('0', '')))), ScalarTimesOperator(Delta, OperatorTimes(Create(LocalSpace('0', '')), Destroy(LocalSpace('0', ''))))))"
      ]
     },
     "execution_count": 43,
     "metadata": {},
     "output_type": "execute_result"
    }
   ],
   "source": [
    "single_kerr_slh"
   ]
  },
  {
   "cell_type": "code",
   "execution_count": 44,
   "metadata": {
    "collapsed": false
   },
   "outputs": [],
   "source": [
    "single_kerr_slh_num = single_kerr_slh.substitute(params)"
   ]
  },
  {
   "cell_type": "code",
   "execution_count": 45,
   "metadata": {
    "collapsed": false
   },
   "outputs": [],
   "source": [
    "# slh_num.space.dimension = Nfock**2\n",
    "single_kerr_psi0 = qutip.basis(Nfock, 0)\n",
    "Tsim = np.arange(0, duration/1000, 1e-3)\n",
    "\n",
    "single_kerr_H_num, single_kerr_L_num = single_kerr_slh_num.HL_to_qutip()"
   ]
  },
  {
   "cell_type": "code",
   "execution_count": 46,
   "metadata": {
    "collapsed": false
   },
   "outputs": [
    {
     "data": {
      "text/latex": [
       "$\\left( \\begin{pmatrix} {\\rm -1} & {\\rm 0} \\\\ {\\rm 0} & {\\rm -1}\\end{pmatrix}, \\begin{pmatrix} {\\rm  - 49.0} +  2 \\sqrt{55} {a_{{{\\rm 0}}}} \\\\  1.0 \\cdot 10^{-5} {a_{{{\\rm 0}}}}\\end{pmatrix}, {\\rm  \\frac{i}{2} \\left({\\rm  98.0 \\sqrt{55} {a_{{{\\rm 0}}}^\\dagger}} -  98.0 \\sqrt{55} {a_{{{\\rm 0}}}}\\right)} -  53.033  {a_{{{\\rm 0}}}^\\dagger} {a_{{{\\rm 0}}}^\\dagger} {a_{{{\\rm 0}}}} {a_{{{\\rm 0}}}} +  750.0  {a_{{{\\rm 0}}}^\\dagger} {a_{{{\\rm 0}}}} \\right)$"
      ],
      "text/plain": [
       "SLH(Matrix([[-1, 0], [0, -1]]), Matrix([[OperatorPlus(ScalarTimesOperator(-49.0000000000000, IdentityOperator), ScalarTimesOperator(2*sqrt(55), Destroy(LocalSpace('0', ''))))], [ScalarTimesOperator(1.00000000000000e-5, Destroy(LocalSpace('0', '')))]]), OperatorPlus(ScalarTimesOperator(I/2, OperatorPlus(ScalarTimesOperator(98.0*sqrt(55), Create(LocalSpace('0', ''))), ScalarTimesOperator(-98.0*sqrt(55), Destroy(LocalSpace('0', ''))))), ScalarTimesOperator(-53.0330000000000, OperatorTimes(Create(LocalSpace('0', '')), Create(LocalSpace('0', '')), Destroy(LocalSpace('0', '')), Destroy(LocalSpace('0', '')))), ScalarTimesOperator(750.000000000000, OperatorTimes(Create(LocalSpace('0', '')), Destroy(LocalSpace('0', ''))))))"
      ]
     },
     "execution_count": 46,
     "metadata": {},
     "output_type": "execute_result"
    }
   ],
   "source": [
    "single_kerr_slh_num"
   ]
  },
  {
   "cell_type": "code",
   "execution_count": 47,
   "metadata": {
    "collapsed": false
   },
   "outputs": [],
   "source": [
    "## Observables for single kerr\n",
    "\n",
    "a = a_lst[0]\n",
    "single_kerr_obs = tuple([a.dag()*a, a+a.dag(), (a-a.dag())/1j])\n",
    "single_kerr_obsq = [o.to_qutip(full_space=single_kerr_slh.space) for o in single_kerr_obs]"
   ]
  },
  {
   "cell_type": "markdown",
   "metadata": {},
   "source": [
    "## $H$ and $L$ of multiple Kerr."
   ]
  },
  {
   "cell_type": "code",
   "execution_count": 48,
   "metadata": {
    "collapsed": false
   },
   "outputs": [
    {
     "data": {
      "text/latex": [
       "$\\left( \\begin{pmatrix} {\\rm 1} & {\\rm 0} \\\\ {\\rm 0} & {\\rm 1}\\end{pmatrix}, \\begin{pmatrix} {\\rm  \\sqrt{\\kappa_{1}} {a_{{{\\rm 1}}}}} - \\left( {\\rm  - \\alpha_{0}} +  \\sqrt{\\kappa_{1}} {a_{{{\\rm 0}}}}\\right) \\\\ {\\rm  - \\sqrt{\\kappa_{2}} {a_{{{\\rm 0}}}}} +  \\sqrt{\\kappa_{2}} {a_{{{\\rm 1}}}}\\end{pmatrix}, {\\rm  \\frac{i}{2} \\left({\\rm  -{\\rm  - \\kappa_{2}  {a_{{{\\rm 0}}}} {a_{{{\\rm 1}}}^\\dagger}} -  \\sqrt{\\kappa_{1}}  \\left({\\rm  - \\alpha_{0}} +  \\sqrt{\\kappa_{1}} {a_{{{\\rm 0}}}}\\right)  {a_{{{\\rm 1}}}^\\dagger}} -  \\kappa_{2}  {a_{{{\\rm 0}}}^\\dagger} {a_{{{\\rm 1}}}} -  \\sqrt{\\kappa_{1}}  \\left({\\rm  - \\overline{\\alpha_{0}}} +  \\sqrt{\\kappa_{1}} {a_{{{\\rm 0}}}^\\dagger}\\right)  {a_{{{\\rm 1}}}}\\right)} +  \\frac{i}{2} \\left({\\rm  \\alpha_{0} \\sqrt{\\kappa_{1}} {a_{{{\\rm 0}}}^\\dagger}} -  \\sqrt{\\kappa_{1}} \\overline{\\alpha_{0}} {a_{{{\\rm 0}}}}\\right) +  \\frac{\\chi}{2}  {a_{{{\\rm 0}}}^\\dagger} {a_{{{\\rm 0}}}^\\dagger} {a_{{{\\rm 0}}}} {a_{{{\\rm 0}}}} +  \\Delta  {a_{{{\\rm 0}}}^\\dagger} {a_{{{\\rm 0}}}} +  \\frac{\\chi}{2}  {a_{{{\\rm 1}}}^\\dagger} {a_{{{\\rm 1}}}^\\dagger} {a_{{{\\rm 1}}}} {a_{{{\\rm 1}}}} +  \\Delta  {a_{{{\\rm 1}}}^\\dagger} {a_{{{\\rm 1}}}} \\right)$"
      ],
      "text/plain": [
       "SLH(Matrix([[1, 0], [0, 1]]), Matrix([[OperatorPlus(ScalarTimesOperator(sqrt(kappa_1), Destroy(LocalSpace('1', ''))), ScalarTimesOperator(-1, OperatorPlus(ScalarTimesOperator(-alpha_0, IdentityOperator), ScalarTimesOperator(sqrt(kappa_1), Destroy(LocalSpace('0', ''))))))], [OperatorPlus(ScalarTimesOperator(-sqrt(kappa_2), Destroy(LocalSpace('0', ''))), ScalarTimesOperator(sqrt(kappa_2), Destroy(LocalSpace('1', ''))))]]), OperatorPlus(ScalarTimesOperator(I/2, OperatorPlus(ScalarTimesOperator(-1, OperatorPlus(ScalarTimesOperator(-kappa_2, OperatorTimes(Destroy(LocalSpace('0', '')), Create(LocalSpace('1', '')))), ScalarTimesOperator(-sqrt(kappa_1), OperatorTimes(OperatorPlus(ScalarTimesOperator(-alpha_0, IdentityOperator), ScalarTimesOperator(sqrt(kappa_1), Destroy(LocalSpace('0', '')))), Create(LocalSpace('1', '')))))), ScalarTimesOperator(-kappa_2, OperatorTimes(Create(LocalSpace('0', '')), Destroy(LocalSpace('1', '')))), ScalarTimesOperator(-sqrt(kappa_1), OperatorTimes(OperatorPlus(ScalarTimesOperator(-conjugate(alpha_0), IdentityOperator), ScalarTimesOperator(sqrt(kappa_1), Create(LocalSpace('0', '')))), Destroy(LocalSpace('1', '')))))), ScalarTimesOperator(I/2, OperatorPlus(ScalarTimesOperator(alpha_0*sqrt(kappa_1), Create(LocalSpace('0', ''))), ScalarTimesOperator(-sqrt(kappa_1)*conjugate(alpha_0), Destroy(LocalSpace('0', ''))))), ScalarTimesOperator(chi/2, OperatorTimes(Create(LocalSpace('0', '')), Create(LocalSpace('0', '')), Destroy(LocalSpace('0', '')), Destroy(LocalSpace('0', '')))), ScalarTimesOperator(Delta, OperatorTimes(Create(LocalSpace('0', '')), Destroy(LocalSpace('0', '')))), ScalarTimesOperator(chi/2, OperatorTimes(Create(LocalSpace('1', '')), Create(LocalSpace('1', '')), Destroy(LocalSpace('1', '')), Destroy(LocalSpace('1', '')))), ScalarTimesOperator(Delta, OperatorTimes(Create(LocalSpace('1', '')), Destroy(LocalSpace('1', ''))))))"
      ]
     },
     "execution_count": 48,
     "metadata": {},
     "output_type": "execute_result"
    }
   ],
   "source": [
    "slh"
   ]
  },
  {
   "cell_type": "code",
   "execution_count": 49,
   "metadata": {
    "collapsed": false
   },
   "outputs": [],
   "source": [
    "slh_num = slh.substitute(params)\n",
    "\n",
    "# slh_num.space.dimension = Nfock**2\n",
    "psi0 = qutip.tensor(qutip.basis(Nfock, 0),\n",
    "                    qutip.basis(Nfock, 0))\n",
    "Tsim = np.arange(0, duration/1000, 1e-3)\n",
    "\n",
    "H_num, L_num = slh_num.HL_to_qutip()\n",
    "\n",
    "## Observables\n",
    "\n",
    "obs = tuple(itertools.chain.from_iterable([[a.dag()*a, a+a.dag(), (a-a.dag())/1j ]  \n",
    "           for a in a_lst]))\n",
    "    \n",
    "obsq = [o.to_qutip(full_space=slh.space) for o in obs]"
   ]
  },
  {
   "cell_type": "code",
   "execution_count": 50,
   "metadata": {
    "collapsed": false
   },
   "outputs": [
    {
     "name": "stdout",
     "output_type": "stream",
     "text": [
      "10.0%. Run time:  71.55s. Est. time left: 00:00:10:43\n",
      "20.0%. Run time: 111.60s. Est. time left: 00:00:07:26\n",
      "30.0%. Run time: 152.10s. Est. time left: 00:00:05:54\n",
      "40.0%. Run time: 193.17s. Est. time left: 00:00:04:49\n",
      "50.0%. Run time: 7078.95s. Est. time left: 00:01:57:58\n",
      "60.0%. Run time: 7117.62s. Est. time left: 00:01:19:05\n",
      "70.0%. Run time: 7169.31s. Est. time left: 00:00:51:12\n",
      "80.0%. Run time: 7231.00s. Est. time left: 00:00:30:07\n",
      "90.0%. Run time: 7292.24s. Est. time left: 00:00:13:30\n",
      "100.0%. Run time: 7324.43s. Est. time left: 00:00:00:00\n",
      "Total run time: 7324.71s\n"
     ]
    }
   ],
   "source": [
    "## generate trajectory\n",
    "single_kerr_mcdata = qutip.mcsolve(single_kerr_H_num, single_kerr_psi0, Tsim, single_kerr_L_num, \n",
    "                       single_kerr_obsq, ntraj=Ntraj, \n",
    "                       options=qutip.Odeoptions(store_states=True,average_expect=False))"
   ]
  },
  {
   "cell_type": "code",
   "execution_count": 53,
   "metadata": {
    "collapsed": false,
    "scrolled": true
   },
   "outputs": [
    {
     "name": "stdout",
     "output_type": "stream",
     "text": [
      "100.0%. Run time:  55.91s. Est. time left: 00:00:00:00\n",
      "Total run time:  56.04s\n"
     ]
    }
   ],
   "source": [
    "## generate trajectory\n",
    "mcdata = qutip.mcsolve(H_num, psi0, Tsim, L_num, \n",
    "                       obsq, ntraj=Ntraj, \n",
    "                       options=qutip.Odeoptions(store_states=True,average_expect=False))"
   ]
  },
  {
   "cell_type": "code",
   "execution_count": null,
   "metadata": {
    "collapsed": true
   },
   "outputs": [],
   "source": [
    "## generate trajectory\n",
    "mcdata_rho = qutip.mesolve(H_num, psi0, Tsim, L_num, \n",
    "                       obsq,\n",
    "                       options=qutip.Odeoptions(store_states=True,average_expect=False))"
   ]
  },
  {
   "cell_type": "markdown",
   "metadata": {},
   "source": [
    "# Original Stochastic Trajectories"
   ]
  },
  {
   "cell_type": "markdown",
   "metadata": {},
   "source": [
    "## System 1"
   ]
  },
  {
   "cell_type": "code",
   "execution_count": null,
   "metadata": {
    "collapsed": false,
    "scrolled": true
   },
   "outputs": [],
   "source": [
    "plt.plot(np.average(np.asarray(mcdata.expect), axis = 0).T[:,:3] );\n",
    "plt.plot(np.asarray(mcdata_rho.expect).T[:,:3], c = 'k');"
   ]
  },
  {
   "cell_type": "markdown",
   "metadata": {},
   "source": [
    "## System 2"
   ]
  },
  {
   "cell_type": "code",
   "execution_count": null,
   "metadata": {
    "collapsed": false,
    "scrolled": false
   },
   "outputs": [],
   "source": [
    "plt.plot(np.average(np.asarray(mcdata.expect), axis = 0).T[:,3:] );\n",
    "plt.plot(np.asarray(mcdata_rho.expect).T[:,3:], c = 'k');"
   ]
  },
  {
   "cell_type": "code",
   "execution_count": null,
   "metadata": {
    "collapsed": false
   },
   "outputs": [],
   "source": [
    "## save as matlab or pkl file\n",
    "\n",
    "from mcdata2matfile_or_pkl import mcdata2matfile_or_pkl\n",
    "\n",
    "if save_mat:\n",
    "    mcdata2matfile_or_pkl(mcdata, file_name, obs, save_mat = True, save_pkl = False)    \n",
    "if save_pkl:\n",
    "    mcdata2matfile_or_pkl(mcdata, file_name, obs, save_mat = False, save_pkl = True, params=params)"
   ]
  },
  {
   "cell_type": "markdown",
   "metadata": {},
   "source": [
    "## Von Neumann Entropy"
   ]
  },
  {
   "cell_type": "markdown",
   "metadata": {},
   "source": [
    "### Estimate from trajectories"
   ]
  },
  {
   "cell_type": "code",
   "execution_count": 199,
   "metadata": {
    "collapsed": true
   },
   "outputs": [],
   "source": [
    "mean_and_std = lambda z: [np.mean(z, axis = 0), np.std(z, axis = 0)]"
   ]
  },
  {
   "cell_type": "code",
   "execution_count": 200,
   "metadata": {
    "collapsed": true
   },
   "outputs": [],
   "source": [
    "time_samples = range(len(Tsim))[::int(duration / 120)]"
   ]
  },
  {
   "cell_type": "code",
   "execution_count": 201,
   "metadata": {
    "collapsed": false
   },
   "outputs": [],
   "source": [
    "### mean and standard deviation of the Von Neumann entorpy of each subsystem for stochastic trajectories.\n",
    "### Since the join states are pure, we can trace either of them out and get the same result.\n",
    "### See https://en.wikipedia.org/wiki/Entropy_of_entanglement\n",
    "\n",
    "VN_entropy_stoch_0 = np.asarray( [ mean_and_std([qutip.entropy.entropy_vn(mcdata.states[jj][t].ptrace(0))\n",
    "                    for jj in range(min(50,params['Ntraj']))])\n",
    "                          for t in time_samples])"
   ]
  },
  {
   "cell_type": "code",
   "execution_count": 202,
   "metadata": {
    "collapsed": false
   },
   "outputs": [],
   "source": [
    "### Von Neumann entropy of each of the subsystems in the full solver\n",
    "### See https://en.wikipedia.org/wiki/Joint_quantum_entropy\n",
    "\n",
    "VN_entropy_rho_0 = np.asarray([qutip.entropy.entropy_vn(mcdata_rho.states[t].ptrace(0))\n",
    "                          for t in time_samples])\n",
    "VN_entropy_rho_1 = np.asarray([qutip.entropy.entropy_vn(mcdata_rho.states[t].ptrace(1))\n",
    "                          for t in time_samples])\n",
    "VN_entropy_rho_01 = np.asarray([qutip.entropy.entropy_vn(mcdata_rho.states[t])\n",
    "                          for t in time_samples])"
   ]
  },
  {
   "cell_type": "code",
   "execution_count": 203,
   "metadata": {
    "collapsed": true
   },
   "outputs": [],
   "source": [
    "upper = VN_entropy_stoch[:,0] + VN_entropy_stoch[:,1] \n",
    "lower = VN_entropy_stoch[:,0] - VN_entropy_stoch[:,1] "
   ]
  },
  {
   "cell_type": "code",
   "execution_count": 205,
   "metadata": {
    "collapsed": false
   },
   "outputs": [
    {
     "data": {
      "image/png": "[encoded data removed]",
      "text/plain": [
       "<matplotlib.figure.Figure at 0x114a06828>"
      ]
     },
     "metadata": {},
     "output_type": "display_data"
    }
   ],
   "source": [
    "plt.plot(time_samples,VN_entropy_stoch_0[:,0])\n",
    "plt.plot(time_samples,VN_entropy_rho_0, c='b')\n",
    "plt.plot(time_samples,VN_entropy_rho_1, c='r')\n",
    "plt.plot(time_samples,VN_entropy_rho_01, c='k')\n",
    "plt.plot(time_samples,VN_entropy_rho_0 + VN_entropy_rho_1 - VN_entropy_rho_01, c='g')\n",
    "plt.fill_between(time_samples, upper, lower, color='#ff0000', alpha=.25, linewidth=0)\n",
    "plt.show()"
   ]
  },
  {
   "cell_type": "code",
   "execution_count": null,
   "metadata": {
    "collapsed": true
   },
   "outputs": [],
   "source": []
  }
 ],
 "metadata": {
  "anaconda-cloud": {},
  "kernelspec": {
   "display_name": "Python [conda env:python_3_env]",
   "language": "python",
   "name": "conda-env-python_3_env-py"
  },
  "language_info": {
   "codemirror_mode": {
    "name": "ipython",
    "version": 3
   },
   "file_extension": ".py",
   "mimetype": "text/x-python",
   "name": "python",
   "nbconvert_exporter": "python",
   "pygments_lexer": "ipython3",
   "version": "3.5.2"
  }
 },
 "nbformat": 4,
 "nbformat_minor": 2
}
