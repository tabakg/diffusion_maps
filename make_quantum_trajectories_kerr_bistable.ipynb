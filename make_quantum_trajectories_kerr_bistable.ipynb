{
 "cells": [
  {
   "cell_type": "markdown",
   "metadata": {},
   "source": [
    "##  In this notebook we build different kinds of quantum trajectories. We will be primairly interested in:\n",
    "\n",
    "1. Kerr in qubit regime\n",
    "\n",
    "2. Kerr in bistable regime\n",
    "\n",
    "3. Atom bistability (see notebook \"make_quantum_trajectories-absorptive_bistability\").\n",
    "\n",
    "We will also be interested in the transition between the first and second regimes of the Kerr system.\n",
    "\n",
    "I store trajectory files as *.pkl files or *.mat files. This way I can easily load them into another notebook, or load the trajectories to matlab."
   ]
  },
  {
   "cell_type": "code",
   "execution_count": 2,
   "metadata": {
    "collapsed": false
   },
   "outputs": [
    {
     "data": {
      "text/plain": [
       "'3.5.2 |Continuum Analytics, Inc.| (default, Jul  2 2016, 17:52:12) \\n[GCC 4.2.1 Compatible Apple LLVM 4.2 (clang-425.0.28)]'"
      ]
     },
     "execution_count": 2,
     "metadata": {},
     "output_type": "execute_result"
    }
   ],
   "source": [
    "## Some of the code seems to require Python 3\n",
    "\n",
    "import sys\n",
    "sys.version"
   ]
  },
  {
   "cell_type": "code",
   "execution_count": 3,
   "metadata": {
    "collapsed": true
   },
   "outputs": [],
   "source": [
    "####\n",
    "####\n",
    "\n",
    "### Select Regime from \"kerr_qubit\", \"kerr_bistable\", \"intermediate_state\"\n",
    "### TODO: implement a regime \"transition_kerr\" which increases the drive periodically, or stochastically, etc.\n",
    "\n",
    "Regime = \"kerr_bistable\"\n",
    "\n",
    "####\n",
    "\n",
    "### Which file formats to save trajectory data.\n",
    "### Name of the file to save. The extension will be .mat for matlab and .pkl for pickle.\n",
    "\n",
    "## matlab file.\n",
    "save_mat = True\n",
    "file_name_mat = './trajectory_data/mat_' + Regime\n",
    "\n",
    "## pkl file (can be loaded in python) in the same format as above.\n",
    "save_pkl = True\n",
    "file_name_pkl = './trajectory_data/pkl_' + Regime\n",
    "\n",
    "## pkl file with only the state and parameters. Split into real and imaginary components. \n",
    "save_pkl_psi_only = True\n",
    "file_name = './trajectory_data/' + Regime\n",
    "\n",
    "####\n",
    "####"
   ]
  },
  {
   "cell_type": "code",
   "execution_count": 4,
   "metadata": {
    "collapsed": false
   },
   "outputs": [],
   "source": [
    "import matplotlib as mil\n",
    "mil.use('TkAgg')\n"
   ]
  },
  {
   "cell_type": "code",
   "execution_count": 5,
   "metadata": {
    "collapsed": false
   },
   "outputs": [],
   "source": [
    "## QHDL package\n",
    "from qnet.algebra.circuit_algebra import *\n",
    "from qnet.circuit_components.displace_cc import Displace\n",
    "from sympy import sqrt\n",
    "\n",
    "\n",
    "## qutip \n",
    "import qutip as qt\n",
    "\n",
    "## numpy\n",
    "import numpy as np\n",
    "\n",
    "## plotting\n",
    "%matplotlib inline\n",
    "import matplotlib.pyplot as plt\n",
    "\n",
    "## pickle\n",
    "import pickle"
   ]
  },
  {
   "cell_type": "code",
   "execution_count": 13,
   "metadata": {
    "collapsed": false,
    "scrolled": true
   },
   "outputs": [
    {
     "data": {
      "image/png": "[encoded data removed]",
      "text/plain": [
       "<IPython.core.display.Image object>"
      ]
     },
     "metadata": {},
     "output_type": "display_data"
    },
    {
     "name": "stdout",
     "output_type": "stream",
     "text": [
      "10.0%. Run time:   8.46s. Est. time left: 00:00:01:16\n",
      "20.0%. Run time:  16.68s. Est. time left: 00:00:01:06\n",
      "30.0%. Run time:  25.39s. Est. time left: 00:00:00:59\n",
      "40.0%. Run time:  34.67s. Est. time left: 00:00:00:51\n",
      "50.0%. Run time:  43.90s. Est. time left: 00:00:00:43\n",
      "60.0%. Run time:  54.05s. Est. time left: 00:00:00:36\n",
      "70.0%. Run time:  64.13s. Est. time left: 00:00:00:27\n",
      "80.0%. Run time:  74.85s. Est. time left: 00:00:00:18\n",
      "90.0%. Run time:  85.36s. Est. time left: 00:00:00:09\n",
      "100.0%. Run time:  95.83s. Est. time left: 00:00:00:00\n",
      "Total run time:  95.93s\n"
     ]
    }
   ],
   "source": [
    "# Define Kerr parameters\n",
    "chi = symbols(\"chi\", real=True, positive=True)\n",
    "Delta = symbols(\"Delta\", real=True)\n",
    "kappa_1, kappa_2 = symbols(\"kappa_1, kappa_2\", real=True, positive=True)\n",
    "alpha0 = symbols(\"alpha_0\")\n",
    "\n",
    "if Regime == \"kerr_bistable\":\n",
    "    ## bistable regime\n",
    "    params = {alpha0 : 52.467, chi : -106.066, Delta : 750., kappa_1 : 220, kappa_2 : 0,\n",
    "              'Ntraj' : 1000, 'duration' : 100., 'Nfock' : 15}\n",
    "elif Regime == \"kerr_qubit\":\n",
    "    ## qubit regime\n",
    "    params = {alpha0 : 10.0, chi : -100, Delta : 0., kappa_1 : 0.5, kappa_2 : 0,\n",
    "              'Ntraj' : 10, 'duration' : 5000., 'Nfock' : 15}\n",
    "elif Regime == \"intermediate_state\":\n",
    "    params = {alpha0 : 100.0, chi : -20.0, Delta : 0, kappa_1 : 1., kappa_2 : 0,\n",
    "              'Ntraj' : 10, 'duration' : 25000., 'Nfock' : 15}\n",
    "else:\n",
    "    raise ValueError(\"Unknown regime, or not implemented yet.\")\n",
    "    \n",
    "## These are used later in the simulation\n",
    "Ntraj = params['Ntraj']\n",
    "duration = params['duration']\n",
    "Nfock = params['Nfock']\n",
    "\n",
    "\n",
    "# Construct Kerr SLH\n",
    "a_k = Destroy(\"k\")\n",
    "S = -identity_matrix(2)\n",
    "L = [sqrt(kappa_1)*a_k, sqrt(kappa_2)*a_k]\n",
    "H = Delta*a_k.dag()*a_k + chi/2*a_k.dag()*a_k.dag()*a_k*a_k\n",
    "KERR = SLH(S, L, H).toSLH()\n",
    "\n",
    "# Add coherent drive\n",
    "SYS = KERR << Displace(alpha=alpha0)+cid(1)\n",
    "SYS.show()\n",
    "SYS = SYS.toSLH()\n",
    "\n",
    "SYS_num = SYS.substitute(params)\n",
    "\n",
    "SYS_num.space.dimension = Nfock\n",
    "psi0 = qt.coherent(Nfock, 0)\n",
    "Tsim = np.arange(0, duration/1000, 1e-3)\n",
    "\n",
    "H_num, L_num = SYS_num.HL_to_qutip()\n",
    "\n",
    "## Observables\n",
    "\n",
    "obs = [a_k.dag()*a_k, a_k+a_k.dag(), (a_k-a_k.dag())/1j]\n",
    "obsq = [o.to_qutip(full_space = SYS_num.space) for o in obs]\n",
    "\n",
    "## generate trajectory\n",
    "mcdata = qt.mcsolve(H_num, psi0, Tsim, L_num, \n",
    "                       obsq, ntraj=Ntraj, \n",
    "                       options=qt.Odeoptions(store_states=True,average_expect=False))\n",
    "\n"
   ]
  },
  {
   "cell_type": "code",
   "execution_count": 14,
   "metadata": {
    "collapsed": false
   },
   "outputs": [
    {
     "data": {
      "text/latex": [
       "$\\left( \\begin{pmatrix} {\\rm -1} & {\\rm 0} \\\\ {\\rm 0} & {\\rm -1}\\end{pmatrix}, \\begin{pmatrix} {\\rm  - \\alpha_{0}} +  \\sqrt{\\kappa_{1}} {a_{{{\\rm k}}}} \\\\  \\sqrt{\\kappa_{2}} {a_{{{\\rm k}}}}\\end{pmatrix}, {\\rm  \\frac{i}{2} \\left({\\rm  \\alpha_{0} \\sqrt{\\kappa_{1}} {a_{{{\\rm k}}}^\\dagger}} -  \\sqrt{\\kappa_{1}} \\overline{\\alpha_{0}} {a_{{{\\rm k}}}}\\right)} +  \\frac{\\chi}{2}  {a_{{{\\rm k}}}^\\dagger} {a_{{{\\rm k}}}^\\dagger} {a_{{{\\rm k}}}} {a_{{{\\rm k}}}} +  \\Delta  {a_{{{\\rm k}}}^\\dagger} {a_{{{\\rm k}}}} \\right)$"
      ],
      "text/plain": [
       "SLH(Matrix([[-1, 0], [0, -1]]), Matrix([[OperatorPlus(ScalarTimesOperator(-alpha_0, IdentityOperator), ScalarTimesOperator(sqrt(kappa_1), Destroy(LocalSpace('k', ''))))], [ScalarTimesOperator(sqrt(kappa_2), Destroy(LocalSpace('k', '')))]]), OperatorPlus(ScalarTimesOperator(I/2, OperatorPlus(ScalarTimesOperator(alpha_0*sqrt(kappa_1), Create(LocalSpace('k', ''))), ScalarTimesOperator(-sqrt(kappa_1)*conjugate(alpha_0), Destroy(LocalSpace('k', ''))))), ScalarTimesOperator(chi/2, OperatorTimes(Create(LocalSpace('k', '')), Create(LocalSpace('k', '')), Destroy(LocalSpace('k', '')), Destroy(LocalSpace('k', '')))), ScalarTimesOperator(Delta, OperatorTimes(Create(LocalSpace('k', '')), Destroy(LocalSpace('k', ''))))))"
      ]
     },
     "execution_count": 14,
     "metadata": {},
     "output_type": "execute_result"
    }
   ],
   "source": [
    "SYS"
   ]
  },
  {
   "cell_type": "code",
   "execution_count": 15,
   "metadata": {
    "collapsed": false
   },
   "outputs": [],
   "source": [
    "# N_num = qt.num(Nfock)\n",
    "\n",
    "# a = qt.destroy(Nfock)\n",
    "# E = a+a.dag()\n",
    "\n",
    "# f, a = plt.subplots(figsize=(24,5))\n",
    "# plt.xlabel(\"Time\", fontsize=17);# plt.ylabel(\"Photon Number\", fontsize=17)\n",
    "# plt.tick_params(labelsize=17)\n",
    "\n",
    "\n",
    "# for i in range(Ntraj): \n",
    "#     a.plot(mcdata.times[0:int(duration)], qt.expect(N_num, mcdata.states[i])[0:int(duration)], \"b\", alpha=0.3)\n",
    "\n",
    "# a.plot(mcdata.times[0:int(duration)],\n",
    "#        np.average(np.asarray([qt.expect(N_num, mcdata.states[i])[0:int(duration)] for i in range(Ntraj)]),axis = 0),\n",
    "#        c='black'\n",
    "#       )\n"
   ]
  },
  {
   "cell_type": "code",
   "execution_count": 16,
   "metadata": {
    "collapsed": false
   },
   "outputs": [
    {
     "data": {
      "text/plain": [
       "[<matplotlib.lines.Line2D at 0x10d9251d0>]"
      ]
     },
     "execution_count": 16,
     "metadata": {},
     "output_type": "execute_result"
    },
    {
     "data": {
      "image/png": "[encoded data removed]",
      "text/plain": [
       "<matplotlib.figure.Figure at 0x10ce2f0f0>"
      ]
     },
     "metadata": {},
     "output_type": "display_data"
    }
   ],
   "source": [
    "N_num = qt.num(Nfock)\n",
    "\n",
    "a = qt.destroy(Nfock)\n",
    "E = a+a.dag()\n",
    "\n",
    "f, a = plt.subplots(figsize=(24,5))\n",
    "plt.xlabel(\"Time\", fontsize=17);# plt.ylabel(\"Photon Number\", fontsize=17)\n",
    "plt.tick_params(labelsize=17)\n",
    "\n",
    "\n",
    "# for i in range(Ntraj): \n",
    "#     a.plot(mcdata.times[0:int(duration)], qt.expect(N_num, mcdata.states[i])[0:int(duration)], \"b\", alpha=0.3)\n",
    "\n",
    "a.plot(mcdata.times[0:int(duration)],\n",
    "       np.average(np.asarray([qt.expect(N_num, mcdata.states[i])[0:int(duration)] for i in range(Ntraj)]),axis = 0),\n",
    "       c='black'\n",
    "      )\n"
   ]
  },
  {
   "cell_type": "code",
   "execution_count": 17,
   "metadata": {
    "collapsed": false
   },
   "outputs": [],
   "source": [
    "if save_pkl_psi_only:\n",
    "    ## Take the trajectory data and extract the vectors in the Hilbert space.\n",
    "    ## here we double-up the resulting coordiantes, i.e. separate each state into a \n",
    "    ## real and imaginary part.\n",
    "\n",
    "    def make_p_complex():\n",
    "        p = []\n",
    "        for traj in mcdata.states:\n",
    "            for k in range(0,len(traj)):\n",
    "                val = np.asarray( traj[k].data.todense().T )[0]\n",
    "                val_doubled = np.concatenate([val.real,val.imag])\n",
    "                p.append(val_doubled)\n",
    "        p = np.asarray(p)\n",
    "        return p\n",
    "\n",
    "    p2=make_p_complex()\n",
    "\n",
    "    ## Save the p2 for other notebooks\n",
    "    output = open(file_name + \".pkl\", 'wb')\n",
    "    pickle.dump((params,SLH,p2), output)\n",
    "    output.close()"
   ]
  },
  {
   "cell_type": "code",
   "execution_count": 18,
   "metadata": {
    "collapsed": false,
    "scrolled": true
   },
   "outputs": [
    {
     "data": {
      "text/html": [
       "<a href='./trajectory_data/mat_kerr_bistable.mat' target='_blank'>./trajectory_data/mat_kerr_bistable.mat</a><br>"
      ],
      "text/plain": [
       "/Users/gil/Documents/repos/diffusion_map/trajectory_data/mat_kerr_bistable.mat"
      ]
     },
     "metadata": {},
     "output_type": "display_data"
    },
    {
     "data": {
      "text/html": [
       "<a href='./trajectory_data/pkl_kerr_bistable.pkl' target='_blank'>./trajectory_data/pkl_kerr_bistable.pkl</a><br>"
      ],
      "text/plain": [
       "/Users/gil/Documents/repos/diffusion_map/trajectory_data/pkl_kerr_bistable.pkl"
      ]
     },
     "metadata": {},
     "output_type": "display_data"
    }
   ],
   "source": [
    "## save as matlab or pkl file\n",
    "\n",
    "from mcdata2matfile_or_pkl import mcdata2matfile_or_pkl\n",
    "\n",
    "if save_mat:\n",
    "    mcdata2matfile_or_pkl(mcdata, file_name_mat, obs, save_mat = True, save_pkl = False)    \n",
    "if save_pkl:\n",
    "    mcdata2matfile_or_pkl(mcdata, file_name_pkl, obs, save_mat = False, save_pkl = True, params=params)"
   ]
  },
  {
   "cell_type": "code",
   "execution_count": null,
   "metadata": {
    "collapsed": true
   },
   "outputs": [],
   "source": []
  }
 ],
 "metadata": {
  "kernelspec": {
   "display_name": "Python 3",
   "language": "python",
   "name": "python3"
  },
  "language_info": {
   "codemirror_mode": {
    "name": "ipython",
    "version": 3
   },
   "file_extension": ".py",
   "mimetype": "text/x-python",
   "name": "python",
   "nbconvert_exporter": "python",
   "pygments_lexer": "ipython3",
   "version": "3.5.2"
  }
 },
 "nbformat": 4,
 "nbformat_minor": 0
}
