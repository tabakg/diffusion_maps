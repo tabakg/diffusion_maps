{
 "cells": [
  {
   "cell_type": "markdown",
   "metadata": {},
   "source": [
    "## Dynamic distance for quantum state diffusions"
   ]
  },
  {
   "cell_type": "markdown",
   "metadata": {},
   "source": [
    "Let the inverse averaged covariance be\n",
    "\\begin{align}\n",
    " \\Sigma^{-1}_{s,\\left| \\psi_1 \\right>,\\left| \\psi_2 \\right>} = \n",
    "\\frac{1}{2}  \\left( \\Sigma^{-1}_{\\left|\\psi_1\\right> } + \\Sigma^{-1}_{\\left|\\psi_2\\right> } \\right) \n",
    "\\end{align}\n",
    "and \n",
    "\\begin{align}\n",
    "f(  \\left|\\psi_1\\right>, \\left|\\psi_2\\right>, \\Sigma^{-1}_{s,\\left| \\psi_1 \\right>,\\left| \\psi_2 \\right>} ) \n",
    "=  \\frac{\\left|\\left< \\psi_1\\right| \\Sigma^{-1}_{s,\\left| \\psi_1 \\right>,\\left| \\psi_2 \\right>}\\left| \\psi_2 \\right> \\right| }\n",
    "{\n",
    "\\sqrt{ \\left|\\left< \\psi_1\\right|  \\Sigma^{-1}_{s,\\left| \\psi_1 \\right>,\\left| \\psi_2 \\right>} \\left| \\psi_1 \\right> \\right| }\n",
    "\\sqrt{ \\left|\\left< \\psi_2\\right|  \\Sigma^{-1}_{s,\\left| \\psi_1 \\right>,\\left| \\psi_2 \\right>} \\left| \\psi_2 \\right> \\right| }\n",
    "}.\n",
    "\\end{align}\n",
    "\n",
    "I want to know if the following respects the triangle inequality:\n",
    "\n",
    "\\begin{align}\n",
    "d_{\\Sigma} (\\left|\\psi_1\\right>,\\left|\\psi_2\\right>)\n",
    "= \\text{acos} \\left( \n",
    "f(  \\left|\\psi_1\\right>, \\left|\\psi_2\\right>, \\Sigma^{-1}_{s,\\left| \\psi_1 \\right>,\\left| \\psi_2 \\right>} ) \n",
    "\\right).\n",
    "\\end{align}\n"
   ]
  },
  {
   "cell_type": "code",
   "execution_count": 258,
   "metadata": {
    "collapsed": true
   },
   "outputs": [],
   "source": [
    "from scipy import random, linalg\n",
    "import numpy as np\n",
    "\n",
    "%matplotlib inline\n",
    "import matplotlib\n",
    "import matplotlib.pyplot as plt"
   ]
  },
  {
   "cell_type": "code",
   "execution_count": 439,
   "metadata": {
    "collapsed": true
   },
   "outputs": [],
   "source": [
    "dim = 3 ## make the dimension 3 for now."
   ]
  },
  {
   "cell_type": "code",
   "execution_count": 441,
   "metadata": {
    "collapsed": false
   },
   "outputs": [],
   "source": [
    "def random_pos_def():\n",
    "    '''\n",
    "    random symmetric positive definite matrix.\n",
    "    '''\n",
    "    A = np.matrix([[random.normal(0,1) for i in range(dim)] for j in range(dim)])\n",
    "    return np.asmatrix(np.dot(A,A.transpose()))"
   ]
  },
  {
   "cell_type": "code",
   "execution_count": 442,
   "metadata": {
    "collapsed": true
   },
   "outputs": [],
   "source": [
    "def real_random_vec():\n",
    "    '''\n",
    "    random real-valued vector.\n",
    "    '''\n",
    "    return np.asmatrix([random.normal(0,1) for i in range(dim)]).T"
   ]
  },
  {
   "cell_type": "code",
   "execution_count": 443,
   "metadata": {
    "collapsed": false
   },
   "outputs": [],
   "source": [
    "def random_vec(real_only=False):\n",
    "    '''\n",
    "    random vector with either complex or only real coordinates.\n",
    "    '''\n",
    "    if real_only==False:\n",
    "        return (real_random_vec() + 1j* real_random_vec())\n",
    "    else:\n",
    "        return real_random_vec()"
   ]
  },
  {
   "cell_type": "code",
   "execution_count": 444,
   "metadata": {
    "collapsed": false
   },
   "outputs": [],
   "source": [
    "def my_inner_prod(x,y,cov_inv,eps = 1e-10):\n",
    "    inner = abs(x.H * cov_inv * y) / np.sqrt( abs(x.H * cov_inv * x) * abs(y.H * cov_inv * y) )\n",
    "    if inner > 1. and inner < 1. + eps:\n",
    "        return 1. - eps\n",
    "    return inner"
   ]
  },
  {
   "cell_type": "code",
   "execution_count": 445,
   "metadata": {
    "collapsed": true
   },
   "outputs": [],
   "source": [
    "def triangle_ineq(x,y,z,cov_inv_x,cov_inv_y,cov_inv_z):\n",
    "    cov_xy = (cov_inv_x + cov_inv_y) / 2.\n",
    "    cov_yz = (cov_inv_y + cov_inv_z) / 2.\n",
    "    cov_xz = (cov_inv_x + cov_inv_z) / 2.\n",
    "    inner_xz = my_inner_prod(x,z,cov_xz)\n",
    "    inner_xy = my_inner_prod(x,y,cov_xy)\n",
    "    inner_yz = my_inner_prod(y,z,cov_yz)\n",
    "    return np.arccos ( inner_xz) <= np.arccos ( inner_xy ) + np.arccos (inner_yz )"
   ]
  },
  {
   "cell_type": "code",
   "execution_count": 446,
   "metadata": {
    "collapsed": false
   },
   "outputs": [],
   "source": [
    "def test_triangle():\n",
    "    x,y,z = [random_vec() for i in range(3)]\n",
    "    cov_inv_x,cov_inv_y,cov_inv_z = [random_pos_def() for i in range(3)]\n",
    "    return triangle_ineq(x,y,z,cov_inv_x,cov_inv_y,cov_inv_z)"
   ]
  },
  {
   "cell_type": "code",
   "execution_count": 447,
   "metadata": {
    "collapsed": false
   },
   "outputs": [],
   "source": [
    "def validator(test = test_triangle, total = 1000):\n",
    "    bool_list = []\n",
    "    num_true = 0\n",
    "    for i in range(total):\n",
    "        bool_list.append(test())\n",
    "        if bool_list[-1]:\n",
    "            num_true +=1\n",
    "\n",
    "    frac_true = float(num_true) / total\n",
    "    return frac_true"
   ]
  },
  {
   "cell_type": "code",
   "execution_count": 448,
   "metadata": {
    "collapsed": false
   },
   "outputs": [
    {
     "name": "stdout",
     "output_type": "stream",
     "text": [
      "percent true : 0.96700000\n"
     ]
    }
   ],
   "source": [
    "print \"percent true : %10.8f\" % validator()"
   ]
  },
  {
   "cell_type": "markdown",
   "metadata": {},
   "source": [
    "## Result:\n",
    "\n",
    "The triangle quality in general does not hold."
   ]
  },
  {
   "cell_type": "markdown",
   "metadata": {},
   "source": [
    "## Implications and other thoughts:\n",
    "\n",
    "Since the triangle inequality isn't satisfied, the kernel may have negative eigenvalues. However, we have symmetry, so the eigenvalues are at least real. Further, we do not expect the covariance to change much for nearby points. I expect we might still be able to use the largest several eigenvectors and eigenvalues, which will likely be positive. This is similar to the situation in other dimensionality reduction methods when not using a true metric."
   ]
  },
  {
   "cell_type": "markdown",
   "metadata": {},
   "source": [
    "## What about the distance in Euclidean coordinates?\n",
    "\n",
    "This is the distance mentioned in the paper: \"Detecting the slow manifold by anisotropic diffusion maps\" by\n",
    "Amit Singer, Radek Erban, Ioannis G. Kevrekidis, Ronald R. Coifman"
   ]
  },
  {
   "cell_type": "code",
   "execution_count": 449,
   "metadata": {
    "collapsed": true
   },
   "outputs": [],
   "source": [
    "def Euclidean_distance(x,y,cov_inv):\n",
    "    return np.sqrt((x-y).H*(cov_inv) * (x-y))"
   ]
  },
  {
   "cell_type": "code",
   "execution_count": 450,
   "metadata": {
    "collapsed": true
   },
   "outputs": [],
   "source": [
    "def triangle_ineq_Euclidean(x,y,z,cov_inv_x,cov_inv_y,cov_inv_z):\n",
    "    cov_xy = (cov_inv_x + cov_inv_y) / 2.\n",
    "    cov_yz = (cov_inv_y + cov_inv_z) / 2.\n",
    "    cov_xz = (cov_inv_x + cov_inv_z) / 2.\n",
    "    return Euclidean_distance(x,z,cov_xz) <= Euclidean_distance(x,y,cov_xy) + Euclidean_distance(y,z,cov_yz)"
   ]
  },
  {
   "cell_type": "code",
   "execution_count": 451,
   "metadata": {
    "collapsed": false
   },
   "outputs": [],
   "source": [
    "def test_triangle_Euclidean():\n",
    "    x,y,z = [random_vec(real_only=True) for i in range(3)]\n",
    "    cov_inv_x,cov_inv_y,cov_inv_z = [random_pos_def() for i in range(3)]\n",
    "    return triangle_ineq_Euclidean(x,y,z,cov_inv_x,cov_inv_y,cov_inv_z)"
   ]
  },
  {
   "cell_type": "code",
   "execution_count": 452,
   "metadata": {
    "collapsed": false
   },
   "outputs": [
    {
     "name": "stdout",
     "output_type": "stream",
     "text": [
      "percent true : 0.92300000\n"
     ]
    }
   ],
   "source": [
    "print \"percent true : %10.8f\" % validator(test = test_triangle_Euclidean)"
   ]
  },
  {
   "cell_type": "markdown",
   "metadata": {},
   "source": [
    "## What happens as we change the dimension?"
   ]
  },
  {
   "cell_type": "code",
   "execution_count": 453,
   "metadata": {
    "collapsed": false
   },
   "outputs": [],
   "source": [
    "percents_my_distance = []\n",
    "percents_Euclidean = []\n",
    "max_dim = 20\n",
    "dim_range = range(2,20)  ## I start at 2 because when dim == 1 all the quantum states are the same.\n",
    "for dim in dim_range:\n",
    "    percents_my_distance.append(validator())\n",
    "    percents_Euclidean.append(validator(test = test_triangle_Euclidean))"
   ]
  },
  {
   "cell_type": "code",
   "execution_count": 457,
   "metadata": {
    "collapsed": false
   },
   "outputs": [
    {
     "data": {
      "text/plain": [
       "<matplotlib.text.Text at 0x11266b490>"
      ]
     },
     "execution_count": 457,
     "metadata": {},
     "output_type": "execute_result"
    },
    {
     "data": {
      "image/png": "[encoded data removed]",
      "text/plain": [
       "<matplotlib.figure.Figure at 0x1132f1590>"
      ]
     },
     "metadata": {},
     "output_type": "display_data"
    }
   ],
   "source": [
    "plt.plot( dim_range,percents_Euclidean)\n",
    "plt.title(\"success of triangle inequality for Euclidean case\")"
   ]
  },
  {
   "cell_type": "code",
   "execution_count": 458,
   "metadata": {
    "collapsed": false
   },
   "outputs": [
    {
     "data": {
      "text/plain": [
       "<matplotlib.text.Text at 0x11412e390>"
      ]
     },
     "execution_count": 458,
     "metadata": {},
     "output_type": "execute_result"
    },
    {
     "data": {
      "image/png": "[encoded data removed]",
      "text/plain": [
       "<matplotlib.figure.Figure at 0x1140dc890>"
      ]
     },
     "metadata": {},
     "output_type": "display_data"
    }
   ],
   "source": [
    "plt.plot( dim_range,percents_my_distance)\n",
    "plt.title(\"success of triangle inequality for my distance\")"
   ]
  },
  {
   "cell_type": "markdown",
   "metadata": {},
   "source": [
    "## Comments:\n",
    "\n",
    "Both versions converge to $1$ as the dimension grows. The distance I use converges about twice as fast. This makes sense because it's defined on complex coordiantes, so it has an equivalent of twice as many dimensions as the Euclidean case."
   ]
  }
 ],
 "metadata": {
  "kernelspec": {
   "display_name": "Python 2",
   "language": "python",
   "name": "python2"
  },
  "language_info": {
   "codemirror_mode": {
    "name": "ipython",
    "version": 2
   },
   "file_extension": ".py",
   "mimetype": "text/x-python",
   "name": "python",
   "nbconvert_exporter": "python",
   "pygments_lexer": "ipython2",
   "version": "2.7.12"
  },
  "widgets": {
   "state": {},
   "version": "1.1.2"
  }
 },
 "nbformat": 4,
 "nbformat_minor": 0
}
